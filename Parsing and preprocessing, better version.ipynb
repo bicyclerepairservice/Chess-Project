{
 "cells": [
  {
   "cell_type": "code",
   "execution_count": 3,
   "id": "b24db576",
   "metadata": {},
   "outputs": [],
   "source": [
    "#pip install chess\n",
    "#!pip install pgn2data\n",
    "from converter.pgn_data import PGNData\n",
    "import chess.pgn\n",
    "import pandas as pd\n",
    "import seaborn as sns\n",
    "import matplotlib.pyplot as plt\n",
    "from tqdm import tqdm\n",
    "import re\n",
    "import numpy as np\n",
    "\n",
    "import warnings\n",
    "warnings.filterwarnings(\"ignore\")"
   ]
  },
  {
   "cell_type": "markdown",
   "id": "3049ccc8",
   "metadata": {},
   "source": [
    "# 1) Первичное преобразование файла"
   ]
  },
  {
   "cell_type": "markdown",
   "id": "2f9a78eb",
   "metadata": {},
   "source": [
    "Как и планировалось, в основном этапе проекта, когда уже научились обращаться с небольшими файликами на 300к партий, мы берем более солидный датасет с партиями от мая 2017 года. В распакованном виде он весит 24 Гб и страшно представить, сколько он хранит партий (считать наверное не будем, и так циклов много будет)"
   ]
  },
  {
   "cell_type": "markdown",
   "id": "8bac87f7",
   "metadata": {},
   "source": [
    "1. **Вытаскиваем из этого большого файла фиксированное количество игр:**\n",
    "Сначала была ппроделана попытка загнать в одну переменную 500 000 игр, однако, это оказалось крайне плохой идеей, так как уже на 370 000 компьютер начал зависать. Остановились на 300 000. \n",
    "\n",
    "    Вытащим их и положим в отдельный файл, а потом вытащим следующие 300 000 и положим в другой файл"
   ]
  },
  {
   "cell_type": "code",
   "execution_count": 3,
   "id": "c23070aa",
   "metadata": {},
   "outputs": [
    {
     "name": "stderr",
     "output_type": "stream",
     "text": [
      "100%|██████████| 300000/300000 [16:03<00:00, 311.25it/s] \n"
     ]
    }
   ],
   "source": [
    "def sometimes_i_pull_out_so_hard(pgnchik, n):\n",
    "    games = []\n",
    "    with open(pgnchik) as f:\n",
    "        for _ in tqdm(range(n)):\n",
    "            game = chess.pgn.read_game(f)\n",
    "            if game is None:\n",
    "                break\n",
    "            games.append(game)\n",
    "    return games\n",
    "\n",
    "pgnchik = \"lichess_db_standard_rated_2017-05.pgn\"\n",
    "n = 300000\n",
    "\n",
    "games = sometimes_i_pull_out_so_hard(pgnchik, n)"
   ]
  },
  {
   "cell_type": "markdown",
   "id": "92a5750b",
   "metadata": {},
   "source": [
    "2. **Записываем вытащенные игры в отдельный файл:**"
   ]
  },
  {
   "cell_type": "code",
   "execution_count": 4,
   "id": "e50e4605",
   "metadata": {},
   "outputs": [
    {
     "name": "stderr",
     "output_type": "stream",
     "text": [
      "100%|██████████| 300000/300000 [01:10<00:00, 4281.73it/s]\n"
     ]
    }
   ],
   "source": [
    "def rip_the_skin(games, output_pgnchik):\n",
    "    with open(output_pgnchik, \"w\") as f:\n",
    "        for game in tqdm(games):\n",
    "            pgn = chess.pgn.Game.from_board(game.board())\n",
    "            pgn.headers.update(game.headers)\n",
    "            f.write(str(pgn) + \"\\n\\n\")\n",
    "\n",
    "output_pgnchik = \"normas_games1.pgn\"\n",
    "\n",
    "rip_the_skin(games, output_pgnchik)"
   ]
  },
  {
   "cell_type": "markdown",
   "id": "f6043b64",
   "metadata": {},
   "source": [
    "3. **Проделаем операцию еще раз:**\n",
    "\n",
    "    Для этого необходимо добавить всего одну строку в функцию"
   ]
  },
  {
   "cell_type": "code",
   "execution_count": 3,
   "id": "9c123bfc",
   "metadata": {},
   "outputs": [
    {
     "name": "stderr",
     "output_type": "stream",
     "text": [
      "100%|██████████| 300000/300000 [16:46<00:00, 298.04it/s] \n"
     ]
    }
   ],
   "source": [
    "def sometimes_i_pull_out_so_hard(pgnchik, n):\n",
    "    games = []\n",
    "    with open(pgnchik) as f:\n",
    "        for _ in range(n):\n",
    "            chess.pgn.skip_game(f)\n",
    "        for _ in tqdm(range(n)):\n",
    "            game = chess.pgn.read_game(f)\n",
    "            if game is None:\n",
    "                break\n",
    "            games.append(game)\n",
    "    return games\n",
    "\n",
    "pgnchik = \"lichess_db_standard_rated_2017-05.pgn\"\n",
    "n = 300000\n",
    "\n",
    "games = sometimes_i_pull_out_so_hard(pgnchik, n)"
   ]
  },
  {
   "cell_type": "code",
   "execution_count": 4,
   "id": "4261387c",
   "metadata": {},
   "outputs": [
    {
     "name": "stderr",
     "output_type": "stream",
     "text": [
      "100%|██████████| 300000/300000 [01:15<00:00, 3953.09it/s]\n"
     ]
    }
   ],
   "source": [
    "def rip_the_skin(games, output_pgnchik):\n",
    "    with open(output_pgnchik, \"w\") as f:\n",
    "        for game in tqdm(games):\n",
    "            pgn = chess.pgn.Game.from_board(game.board())\n",
    "            pgn.headers.update(game.headers)\n",
    "            f.write(str(pgn) + \"\\n\\n\")\n",
    "\n",
    "output_pgnchik = \"normas_games2.pgn\"\n",
    "\n",
    "rip_the_skin(games, output_pgnchik)"
   ]
  },
  {
   "cell_type": "markdown",
   "id": "d885a5bd",
   "metadata": {},
   "source": [
    "## Почему-то после применения данного кода из данных с играми не получилось скопировать ходы (файл moves оказался пустым). Применим другой код:\n",
    "(Решили оставить данный раздел, потому что уж слишком гармонично и структурированно он выглядит)"
   ]
  },
  {
   "cell_type": "markdown",
   "id": "a00585bc",
   "metadata": {},
   "source": [
    "4. **Используя новый код, вытащим из файла 200 000 игр и сразу запишем их в новый файл:**"
   ]
  },
  {
   "cell_type": "code",
   "execution_count": 22,
   "id": "de82e642",
   "metadata": {},
   "outputs": [
    {
     "name": "stdout",
     "output_type": "stream",
     "text": [
      "Extracted 50000 games...\n",
      "Extracted 100000 games...\n",
      "Extracted 150000 games...\n",
      "Extracted 200000 games...\n"
     ]
    }
   ],
   "source": [
    "def extract_games(input_pgn_file, output_pgn_file, num_games):\n",
    "    # Открываем большой файл\n",
    "    with open(input_pgn_file) as f:\n",
    "        # Создаем маленький файл чтобы туда все записывать\n",
    "        with open(output_pgn_file, 'w') as output_file:\n",
    "\n",
    "            pgn = chess.pgn.read_game(f)\n",
    "\n",
    "            # Заносим в переменную количество вытащенных игр\n",
    "            games_extracted = 0\n",
    "            while pgn is not None and games_extracted < num_games:\n",
    "                # Записываем в файл\n",
    "                output_file.write(str(pgn) + '\\n\\n')\n",
    "\n",
    "                # Переходим к следующей игре\n",
    "                pgn = chess.pgn.read_game(f)\n",
    "                games_extracted += 1\n",
    "\n",
    "                if games_extracted % 50000 == 0:\n",
    "                    print(f\"Extracted {games_extracted} games...\")\n",
    "\n",
    "input_pgn_file = 'lichess_db_standard_rated_2017-05.pgn'\n",
    "output_pgn_file = 'massive_peacock.pgn'\n",
    "num_games_to_extract = 200000\n",
    "\n",
    "extract_games(input_pgn_file, output_pgn_file, num_games_to_extract)"
   ]
  },
  {
   "cell_type": "markdown",
   "id": "c6fbfe9a",
   "metadata": {},
   "source": [
    "4.1 **Игры вытащены, теперь преобразуем их в датафрейм, к которому будет впоследствии удобно присоединять дополнительные характеристики:**"
   ]
  },
  {
   "cell_type": "code",
   "execution_count": 23,
   "id": "904d5c95",
   "metadata": {},
   "outputs": [
    {
     "name": "stderr",
     "output_type": "stream",
     "text": [
      "INFO:pgn2data - log_time:initializing at...2023-06-13 12:03:45.596857\n",
      "INFO:pgn2data - pgn_data class:Starting process..\n",
      "INFO:pgn2data - process:Processing file:massive_peacock.pgn\n",
      "INFO:pgn2data - pgn_data class:ending process..\n",
      "INFO:pgn2data - log_time:time taken sec: 7299.999002899999 sec\n",
      "INFO:pgn2data - log_time:time taken: 2.0 hours, 1.0 minute, 39.99900289999914 seconds, \n",
      "INFO:pgn2data - log_time:time started...2023-06-13 12:03:45.596857\n",
      "INFO:pgn2data - log_time:time ended.....2023-06-13 14:05:25.594919\n"
     ]
    },
    {
     "name": "stdout",
     "output_type": "stream",
     "text": [
      "                                game_id  game_order              event  \\\n",
      "0  7467c96c-2ffd-44c3-a15c-af055bed140b           1  Rated Bullet game   \n",
      "1  9ab1f268-36e8-4ba2-98c1-9d681f5e622e           2  Rated Bullet game   \n",
      "2  0f0dafc3-9ead-467c-a507-4028eba12c58           3  Rated Bullet game   \n",
      "3  181a04ac-d94c-4ca4-bc0e-39516169367e           4  Rated Bullet game   \n",
      "4  395f02d0-32f3-4e03-a23b-b03bdd5431e5           5   Rated Blitz game   \n",
      "\n",
      "                           site date_played round       white          black  \\\n",
      "0  https://lichess.org/ObT3MGJ6  ????.??.??     ?  marshall91    Nechemevich   \n",
      "1  https://lichess.org/wcL9cyTi  ????.??.??     ?    LTKAUNAS        Paupara   \n",
      "2  https://lichess.org/D32us0RF  ????.??.??     ?     ateoluz   yigitmustafa   \n",
      "3  https://lichess.org/6RBz5epC  ????.??.??     ?   le_batman  aleksandra_91   \n",
      "4  https://lichess.org/z2b2Y95l  ????.??.??     ?    Trollson        salahi2   \n",
      "\n",
      "  result  white_elo  ...  winner_loser_elo_diff  eco   termination  \\\n",
      "0    0-1       1926  ...                     43  B01  Time forfeit   \n",
      "1    1-0       1592  ...                    165  A00  Time forfeit   \n",
      "2    1-0       1247  ...                     73  D00  Time forfeit   \n",
      "3    1-0       2047  ...                     38  A00  Time forfeit   \n",
      "4    1-0       1767  ...                    -14  B01  Time forfeit   \n",
      "\n",
      "  time_control    utc_date  utc_time  variant ply_count  \\\n",
      "0         60+0  2017.04.30  22:00:00      NaN       NaN   \n",
      "1         60+0  2017.04.30  22:00:00      NaN       NaN   \n",
      "2         60+0  2017.04.30  22:00:00      NaN       NaN   \n",
      "3         60+0  2017.04.30  22:00:00      NaN       NaN   \n",
      "4        300+0  2017.04.30  22:00:00      NaN       NaN   \n",
      "\n",
      "               date_created            file_name  \n",
      "0  2023-06-13T12:03:45+0000  massive_peacock.pgn  \n",
      "1  2023-06-13T12:03:45+0000  massive_peacock.pgn  \n",
      "2  2023-06-13T12:03:45+0000  massive_peacock.pgn  \n",
      "3  2023-06-13T12:03:45+0000  massive_peacock.pgn  \n",
      "4  2023-06-13T12:03:45+0000  massive_peacock.pgn  \n",
      "\n",
      "[5 rows x 29 columns]\n",
      "                                game_id  move_no  move_no_pair       player  \\\n",
      "0  7467c96c-2ffd-44c3-a15c-af055bed140b        1             1   marshall91   \n",
      "1  7467c96c-2ffd-44c3-a15c-af055bed140b        2             1  Nechemevich   \n",
      "2  7467c96c-2ffd-44c3-a15c-af055bed140b        3             2   marshall91   \n",
      "3  7467c96c-2ffd-44c3-a15c-af055bed140b        4             2  Nechemevich   \n",
      "4  7467c96c-2ffd-44c3-a15c-af055bed140b        5             3   marshall91   \n",
      "\n",
      "  notation  move from_square to_square piece  color  ... fen_row8_black_count  \\\n",
      "0       e4  e2e4          e2        e4     P  White  ...                    8   \n",
      "1       d5  d7d5          d7        d5     P  Black  ...                    8   \n",
      "2     exd5  e4d5          e4        d5     P  White  ...                    8   \n",
      "3      Nf6  g8f6          g8        f6     N  Black  ...                    7   \n",
      "4       d3  d2d3          d2        d3     P  White  ...                    7   \n",
      "\n",
      "   fen_row1_black_value  fen_row2_black_value  fen_row3_black_value  \\\n",
      "0                     0                     0                     0   \n",
      "1                     0                     0                     0   \n",
      "2                     0                     0                     0   \n",
      "3                     0                     0                     0   \n",
      "4                     0                     0                     0   \n",
      "\n",
      "   fen_row4_black_value  fen_row5_black_value  fen_row6_black_value  \\\n",
      "0                     0                     0                     0   \n",
      "1                     0                     1                     0   \n",
      "2                     0                     0                     0   \n",
      "3                     0                     0                     3   \n",
      "4                     0                     0                     3   \n",
      "\n",
      "   fen_row7_black_value  fen_row8_black_value      move_sequence  \n",
      "0                     8                    31                 e4  \n",
      "1                     7                    31              e4|d5  \n",
      "2                     7                    31         e4|d5|exd5  \n",
      "3                     7                    28     e4|d5|exd5|Nf6  \n",
      "4                     7                    28  e4|d5|exd5|Nf6|d3  \n",
      "\n",
      "[5 rows x 64 columns]\n"
     ]
    }
   ],
   "source": [
    "#Перевод файла формата .pgn в .csv датасет\n",
    "pgn_data = PGNData(\"massive_peacock.pgn\")\n",
    "result = pgn_data.export()\n",
    "#в результате данная библиотека выводит два файла:\n",
    "if result.is_complete:\n",
    "    #файл с основным описанием игры\n",
    "    games_df = result.get_games_df()\n",
    "    print(games_df.head())\n",
    "    #файл с ходами, сделанными в каждой игре, и некоторыми дополнительными характеристиками\n",
    "    moves_df = result.get_moves_df()\n",
    "    print(moves_df.head())"
   ]
  },
  {
   "cell_type": "code",
   "execution_count": 21,
   "id": "fa2a4428",
   "metadata": {},
   "outputs": [
    {
     "data": {
      "text/plain": [
       "Index(['game_id', 'move_no', 'move_no_pair', 'player', 'notation', 'move',\n",
       "       'from_square', 'to_square', 'piece', 'color', 'fen', 'is_check',\n",
       "       'is_check_mate', 'is_fifty_moves', 'is_fivefold_repetition',\n",
       "       'is_game_over', 'is_insufficient_material', 'white_count',\n",
       "       'black_count', 'white_pawn_count', 'black_pawn_count',\n",
       "       'white_queen_count', 'black_queen_count', 'white_bishop_count',\n",
       "       'black_bishop_count', 'white_knight_count', 'black_knight_count',\n",
       "       'white_rook_count', 'black_rook_count', 'captured_score_for_white',\n",
       "       'captured_score_for_black', 'fen_row1_white_count',\n",
       "       'fen_row2_white_count', 'fen_row3_white_count', 'fen_row4_white_count',\n",
       "       'fen_row5_white_count', 'fen_row6_white_count', 'fen_row7_white_count',\n",
       "       'fen_row8_white_count', 'fen_row1_white_value', 'fen_row2_white_value',\n",
       "       'fen_row3_white_value', 'fen_row4_white_value', 'fen_row5_white_value',\n",
       "       'fen_row6_white_value', 'fen_row7_white_value', 'fen_row8_white_value',\n",
       "       'fen_row1_black_count', 'fen_row2_black_count', 'fen_row3_black_count',\n",
       "       'fen_row4_black_count', 'fen_row5_black_count', 'fen_row6_black_count',\n",
       "       'fen_row7_black_count', 'fen_row8_black_count', 'fen_row1_black_value',\n",
       "       'fen_row2_black_value', 'fen_row3_black_value', 'fen_row4_black_value',\n",
       "       'fen_row5_black_value', 'fen_row6_black_value', 'fen_row7_black_value',\n",
       "       'fen_row8_black_value', 'move_sequence'],\n",
       "      dtype='object')"
      ]
     },
     "execution_count": 21,
     "metadata": {},
     "output_type": "execute_result"
    }
   ],
   "source": [
    "moves_df.columns"
   ]
  },
  {
   "cell_type": "code",
   "execution_count": 24,
   "id": "bbc25fbf",
   "metadata": {},
   "outputs": [
    {
     "data": {
      "text/plain": [
       "game_id                  e42012cd-f4a2-4bf0-bfab-dd0e85f6fdb1\n",
       "game_order                                                  6\n",
       "event                                       Rated Bullet game\n",
       "site                             https://lichess.org/d717OI8R\n",
       "date_played                                        ????.??.??\n",
       "round                                                       ?\n",
       "white                                               kbknight1\n",
       "black                                               cenotafio\n",
       "result                                                    0-1\n",
       "white_elo                                                1773\n",
       "white_rating_diff                                       -11.0\n",
       "black_elo                                                1780\n",
       "black_rating_diff                                        10.0\n",
       "white_title                                               NaN\n",
       "black_title                                               NaN\n",
       "winner                                              cenotafio\n",
       "winner_elo                                             1780.0\n",
       "loser                                               kbknight1\n",
       "loser_elo                                              1773.0\n",
       "winner_loser_elo_diff                                       7\n",
       "eco                                                       B01\n",
       "termination                                      Time forfeit\n",
       "time_control                                             60+0\n",
       "utc_date                                           2017.04.30\n",
       "utc_time                                             22:00:00\n",
       "variant                                                   NaN\n",
       "ply_count                                                 NaN\n",
       "date_created                         2023-06-13T12:03:45+0000\n",
       "file_name                                 massive_peacock.pgn\n",
       "Name: 5, dtype: object"
      ]
     },
     "execution_count": 24,
     "metadata": {},
     "output_type": "execute_result"
    }
   ],
   "source": [
    "games_df.loc[5,:]"
   ]
  },
  {
   "cell_type": "markdown",
   "id": "eded0418",
   "metadata": {},
   "source": [
    "5. **Все сработало. Вытаскиваем следующую партию игр (еще 200 000 штук):**"
   ]
  },
  {
   "cell_type": "code",
   "execution_count": 26,
   "id": "4a3d7d5f",
   "metadata": {},
   "outputs": [
    {
     "name": "stdout",
     "output_type": "stream",
     "text": [
      "Extracted 50000 games...\n",
      "Extracted 100000 games...\n",
      "Extracted 150000 games...\n",
      "Extracted 200000 games...\n"
     ]
    }
   ],
   "source": [
    "def extract_games(input_pgn_file, output_pgn_file, num_games):\n",
    "    # Открываем большой файл\n",
    "    with open(input_pgn_file) as f:\n",
    "        # Создаем маленький файл чтобы туда все записывать\n",
    "        with open(output_pgn_file, 'w') as output_file:\n",
    "            for _ in range(num_games):\n",
    "                chess.pgn.skip_game(f)\n",
    "\n",
    "            pgn = chess.pgn.read_game(f)\n",
    "\n",
    "            # Заносим в переменную количество вытащенных игр\n",
    "            games_extracted = 0\n",
    "            while pgn is not None and games_extracted < num_games:\n",
    "                # Записываем в файл\n",
    "                output_file.write(str(pgn) + '\\n\\n')\n",
    "\n",
    "                # Переходим к следующей игре\n",
    "                pgn = chess.pgn.read_game(f)\n",
    "                games_extracted += 1\n",
    "\n",
    "                if games_extracted % 50000 == 0:\n",
    "                    print(f\"Extracted {games_extracted} games...\")\n",
    "\n",
    "input_pgn_file = 'lichess_db_standard_rated_2017-05.pgn'\n",
    "output_pgn_file = 'massive_fazan.pgn'\n",
    "num_games_to_extract = 200000\n",
    "\n",
    "extract_games(input_pgn_file, output_pgn_file, num_games_to_extract)"
   ]
  },
  {
   "cell_type": "markdown",
   "id": "ab1b6b13",
   "metadata": {},
   "source": [
    "5.1 **Проделываем аналогичную операцию из пункта 4.1:**"
   ]
  },
  {
   "cell_type": "code",
   "execution_count": 3,
   "id": "8010530b",
   "metadata": {},
   "outputs": [
    {
     "name": "stderr",
     "output_type": "stream",
     "text": [
      "INFO:pgn2data - log_time:initializing at...2023-06-13 16:18:56.225428\n",
      "INFO:pgn2data - pgn_data class:Starting process..\n",
      "INFO:pgn2data - process:Processing file:massive_fazan.pgn\n",
      "INFO:pgn2data - pgn_data class:ending process..\n",
      "INFO:pgn2data - log_time:time taken sec: 5098.0804071 sec\n",
      "INFO:pgn2data - log_time:time taken: 1.0 hour, 24.0 minutes, 58.08040710000023 seconds, \n",
      "INFO:pgn2data - log_time:time started...2023-06-13 16:18:56.225428\n",
      "INFO:pgn2data - log_time:time ended.....2023-06-13 17:43:54.311936\n"
     ]
    },
    {
     "name": "stdout",
     "output_type": "stream",
     "text": [
      "                                game_id  game_order              event  \\\n",
      "0  66379645-adc7-4fed-8208-4561e010b813           1   Rated Blitz game   \n",
      "1  bfa40e97-ed72-444b-a3b3-54ef803d8ac2           2  Rated Bullet game   \n",
      "2  7f7f76bc-ab57-46db-b575-66f24b601217           3  Rated Bullet game   \n",
      "3  963f8bc4-9ebe-42d7-b8e3-393d0bc9ae8f           4  Rated Bullet game   \n",
      "4  f89b0c5e-576e-47a4-8f97-5bed4e0ec750           5  Rated Bullet game   \n",
      "\n",
      "                           site date_played round       white  \\\n",
      "0  https://lichess.org/0EMWIB5D  ????.??.??     ?     Safiron   \n",
      "1  https://lichess.org/56NnlbUW  ????.??.??     ?      AdiStf   \n",
      "2  https://lichess.org/uylj2l8d  ????.??.??     ?  harshalp24   \n",
      "3  https://lichess.org/T8t2RsGe  ????.??.??     ?  paerstymer   \n",
      "4  https://lichess.org/gVN90Rj7  ????.??.??     ?  sekhar2204   \n",
      "\n",
      "              black result  white_elo  ...  winner_loser_elo_diff  eco  \\\n",
      "0       AgentBroise    0-1       1343  ...                    -41  A00   \n",
      "1        DIgorevich    1-0       2089  ...                     42  A00   \n",
      "2  VLADIELIZAROVICH    1-0       1246  ...                    344  C00   \n",
      "3             frajo    1-0       1726  ...                    -16  A43   \n",
      "4        Anonim1976    0-1       1532  ...                     41  B20   \n",
      "\n",
      "    termination time_control    utc_date  utc_time  variant ply_count  \\\n",
      "0        Normal        240+3  2017.05.01  13:36:55      NaN       NaN   \n",
      "1        Normal         30+0  2017.05.01  13:36:56      NaN       NaN   \n",
      "2  Time forfeit         60+0  2017.05.01  13:36:56      NaN       NaN   \n",
      "3  Time forfeit         60+0  2017.05.01  13:36:56      NaN       NaN   \n",
      "4        Normal         60+0  2017.05.01  13:36:56      NaN       NaN   \n",
      "\n",
      "               date_created          file_name  \n",
      "0  2023-06-13T16:18:56+0000  massive_fazan.pgn  \n",
      "1  2023-06-13T16:18:56+0000  massive_fazan.pgn  \n",
      "2  2023-06-13T16:18:56+0000  massive_fazan.pgn  \n",
      "3  2023-06-13T16:18:56+0000  massive_fazan.pgn  \n",
      "4  2023-06-13T16:18:56+0000  massive_fazan.pgn  \n",
      "\n",
      "[5 rows x 29 columns]\n",
      "                                game_id  move_no  move_no_pair       player  \\\n",
      "0  66379645-adc7-4fed-8208-4561e010b813        1             1      Safiron   \n",
      "1  66379645-adc7-4fed-8208-4561e010b813        2             1  AgentBroise   \n",
      "2  66379645-adc7-4fed-8208-4561e010b813        3             2      Safiron   \n",
      "3  66379645-adc7-4fed-8208-4561e010b813        4             2  AgentBroise   \n",
      "4  66379645-adc7-4fed-8208-4561e010b813        5             3      Safiron   \n",
      "\n",
      "  notation  move from_square to_square piece  color  ... fen_row8_black_count  \\\n",
      "0       e3  e2e3          e2        e3     P  White  ...                    8   \n",
      "1       e6  e7e6          e7        e6     P  Black  ...                    8   \n",
      "2      Qf3  d1f3          d1        f3     Q  White  ...                    8   \n",
      "3      Nf6  g8f6          g8        f6     N  Black  ...                    7   \n",
      "4      Bd3  f1d3          f1        d3     B  White  ...                    7   \n",
      "\n",
      "   fen_row1_black_value  fen_row2_black_value  fen_row3_black_value  \\\n",
      "0                     0                     0                     0   \n",
      "1                     0                     0                     0   \n",
      "2                     0                     0                     0   \n",
      "3                     0                     0                     0   \n",
      "4                     0                     0                     0   \n",
      "\n",
      "   fen_row4_black_value  fen_row5_black_value  fen_row6_black_value  \\\n",
      "0                     0                     0                     0   \n",
      "1                     0                     0                     1   \n",
      "2                     0                     0                     1   \n",
      "3                     0                     0                     4   \n",
      "4                     0                     0                     4   \n",
      "\n",
      "   fen_row7_black_value  fen_row8_black_value      move_sequence  \n",
      "0                     8                    31                 e3  \n",
      "1                     7                    31              e3|e6  \n",
      "2                     7                    31          e3|e6|Qf3  \n",
      "3                     7                    28      e3|e6|Qf3|Nf6  \n",
      "4                     7                    28  e3|e6|Qf3|Nf6|Bd3  \n",
      "\n",
      "[5 rows x 64 columns]\n"
     ]
    }
   ],
   "source": [
    "#Перевод файла формата .pgn в .csv датасет\n",
    "pgn_data1 = PGNData(\"massive_fazan.pgn\")\n",
    "result1 = pgn_data1.export()\n",
    "#в результате данная библиотека выводит два файла:\n",
    "if result1.is_complete:\n",
    "    #файл с основным описанием игры\n",
    "    games_df1 = result1.get_games_df()\n",
    "    print(games_df1.head())\n",
    "    #файл с ходами, сделанными в каждой игре, и некоторыми дополнительными характеристиками\n",
    "    moves_df1 = result1.get_moves_df()\n",
    "    print(moves_df1.head())"
   ]
  },
  {
   "cell_type": "markdown",
   "id": "183b7ceb",
   "metadata": {},
   "source": [
    "**Итог:**\n",
    "\n",
    "    Получили 2 датасета в общей сумме на 400 000 партий. Раздельно проводить операции с ними будет в разы проще, однако придется часто перезапускать ядро. На первом этапе проекта был использовал 1 датасет с примерно 235 000 партиями и операции там проводились достатосно долго.\n",
    "    \n",
    "    Однако получившиеся итоговые преобразованные датасеты с необходимым набором данных содержали в себе всего около 2000 партий, что крайне плохо сказалось как на проверке гипотез, так и на машинном обучении. Именно поэтому сейчас было выбрано больше партий в надежде на то, что в итоговых данных останется хотя бы 10 0000.\n",
    "    \n",
    "    Первые 200 000 партий лежат в файлах \"massive_peacock_moves.csv\" и \"massive_peacock_game_info.csv\". Вторые 200 000 партий лежат в файлах \"massive_fazan_moves.csv\" и \"massive_fazan_game_info.csv\""
   ]
  },
  {
   "cell_type": "code",
   "execution_count": 3,
   "id": "9ebe7600",
   "metadata": {},
   "outputs": [],
   "source": [
    "peacock_info = pd.read_csv(\"massive_peacock_game_info.csv\")\n",
    "peacock_moves = pd.read_csv(\"massive_peacock_moves.csv\")\n",
    "\n",
    "fazan_info = pd.read_csv(\"massive_fazan_game_info.csv\")\n",
    "fazan_moves = pd.read_csv(\"massive_fazan_moves.csv\")"
   ]
  },
  {
   "cell_type": "code",
   "execution_count": 5,
   "id": "ca281915",
   "metadata": {},
   "outputs": [
    {
     "name": "stdout",
     "output_type": "stream",
     "text": [
      "(200000, 29) (200000, 29)\n",
      "(13466644, 64) (13544316, 64)\n"
     ]
    }
   ],
   "source": [
    "print(peacock_info.shape, fazan_info.shape)\n",
    "print(peacock_moves.shape, fazan_moves.shape)"
   ]
  },
  {
   "cell_type": "code",
   "execution_count": 6,
   "id": "b8543264",
   "metadata": {},
   "outputs": [
    {
     "data": {
      "text/html": [
       "<div>\n",
       "<style scoped>\n",
       "    .dataframe tbody tr th:only-of-type {\n",
       "        vertical-align: middle;\n",
       "    }\n",
       "\n",
       "    .dataframe tbody tr th {\n",
       "        vertical-align: top;\n",
       "    }\n",
       "\n",
       "    .dataframe thead th {\n",
       "        text-align: right;\n",
       "    }\n",
       "</style>\n",
       "<table border=\"1\" class=\"dataframe\">\n",
       "  <thead>\n",
       "    <tr style=\"text-align: right;\">\n",
       "      <th></th>\n",
       "      <th>game_id</th>\n",
       "      <th>game_order</th>\n",
       "      <th>event</th>\n",
       "      <th>site</th>\n",
       "      <th>date_played</th>\n",
       "      <th>round</th>\n",
       "      <th>white</th>\n",
       "      <th>black</th>\n",
       "      <th>result</th>\n",
       "      <th>white_elo</th>\n",
       "      <th>...</th>\n",
       "      <th>winner_loser_elo_diff</th>\n",
       "      <th>eco</th>\n",
       "      <th>termination</th>\n",
       "      <th>time_control</th>\n",
       "      <th>utc_date</th>\n",
       "      <th>utc_time</th>\n",
       "      <th>variant</th>\n",
       "      <th>ply_count</th>\n",
       "      <th>date_created</th>\n",
       "      <th>file_name</th>\n",
       "    </tr>\n",
       "  </thead>\n",
       "  <tbody>\n",
       "    <tr>\n",
       "      <th>0</th>\n",
       "      <td>7467c96c-2ffd-44c3-a15c-af055bed140b</td>\n",
       "      <td>1</td>\n",
       "      <td>Rated Bullet game</td>\n",
       "      <td>https://lichess.org/ObT3MGJ6</td>\n",
       "      <td>????.??.??</td>\n",
       "      <td>?</td>\n",
       "      <td>marshall91</td>\n",
       "      <td>Nechemevich</td>\n",
       "      <td>0-1</td>\n",
       "      <td>1926</td>\n",
       "      <td>...</td>\n",
       "      <td>43</td>\n",
       "      <td>B01</td>\n",
       "      <td>Time forfeit</td>\n",
       "      <td>60+0</td>\n",
       "      <td>2017.04.30</td>\n",
       "      <td>22:00:00</td>\n",
       "      <td>NaN</td>\n",
       "      <td>NaN</td>\n",
       "      <td>2023-06-13T12:03:45+0000</td>\n",
       "      <td>massive_peacock.pgn</td>\n",
       "    </tr>\n",
       "    <tr>\n",
       "      <th>1</th>\n",
       "      <td>9ab1f268-36e8-4ba2-98c1-9d681f5e622e</td>\n",
       "      <td>2</td>\n",
       "      <td>Rated Bullet game</td>\n",
       "      <td>https://lichess.org/wcL9cyTi</td>\n",
       "      <td>????.??.??</td>\n",
       "      <td>?</td>\n",
       "      <td>LTKAUNAS</td>\n",
       "      <td>Paupara</td>\n",
       "      <td>1-0</td>\n",
       "      <td>1592</td>\n",
       "      <td>...</td>\n",
       "      <td>165</td>\n",
       "      <td>A00</td>\n",
       "      <td>Time forfeit</td>\n",
       "      <td>60+0</td>\n",
       "      <td>2017.04.30</td>\n",
       "      <td>22:00:00</td>\n",
       "      <td>NaN</td>\n",
       "      <td>NaN</td>\n",
       "      <td>2023-06-13T12:03:45+0000</td>\n",
       "      <td>massive_peacock.pgn</td>\n",
       "    </tr>\n",
       "    <tr>\n",
       "      <th>2</th>\n",
       "      <td>0f0dafc3-9ead-467c-a507-4028eba12c58</td>\n",
       "      <td>3</td>\n",
       "      <td>Rated Bullet game</td>\n",
       "      <td>https://lichess.org/D32us0RF</td>\n",
       "      <td>????.??.??</td>\n",
       "      <td>?</td>\n",
       "      <td>ateoluz</td>\n",
       "      <td>yigitmustafa</td>\n",
       "      <td>1-0</td>\n",
       "      <td>1247</td>\n",
       "      <td>...</td>\n",
       "      <td>73</td>\n",
       "      <td>D00</td>\n",
       "      <td>Time forfeit</td>\n",
       "      <td>60+0</td>\n",
       "      <td>2017.04.30</td>\n",
       "      <td>22:00:00</td>\n",
       "      <td>NaN</td>\n",
       "      <td>NaN</td>\n",
       "      <td>2023-06-13T12:03:45+0000</td>\n",
       "      <td>massive_peacock.pgn</td>\n",
       "    </tr>\n",
       "    <tr>\n",
       "      <th>3</th>\n",
       "      <td>181a04ac-d94c-4ca4-bc0e-39516169367e</td>\n",
       "      <td>4</td>\n",
       "      <td>Rated Bullet game</td>\n",
       "      <td>https://lichess.org/6RBz5epC</td>\n",
       "      <td>????.??.??</td>\n",
       "      <td>?</td>\n",
       "      <td>le_batman</td>\n",
       "      <td>aleksandra_91</td>\n",
       "      <td>1-0</td>\n",
       "      <td>2047</td>\n",
       "      <td>...</td>\n",
       "      <td>38</td>\n",
       "      <td>A00</td>\n",
       "      <td>Time forfeit</td>\n",
       "      <td>60+0</td>\n",
       "      <td>2017.04.30</td>\n",
       "      <td>22:00:00</td>\n",
       "      <td>NaN</td>\n",
       "      <td>NaN</td>\n",
       "      <td>2023-06-13T12:03:45+0000</td>\n",
       "      <td>massive_peacock.pgn</td>\n",
       "    </tr>\n",
       "    <tr>\n",
       "      <th>4</th>\n",
       "      <td>395f02d0-32f3-4e03-a23b-b03bdd5431e5</td>\n",
       "      <td>5</td>\n",
       "      <td>Rated Blitz game</td>\n",
       "      <td>https://lichess.org/z2b2Y95l</td>\n",
       "      <td>????.??.??</td>\n",
       "      <td>?</td>\n",
       "      <td>Trollson</td>\n",
       "      <td>salahi2</td>\n",
       "      <td>1-0</td>\n",
       "      <td>1767</td>\n",
       "      <td>...</td>\n",
       "      <td>-14</td>\n",
       "      <td>B01</td>\n",
       "      <td>Time forfeit</td>\n",
       "      <td>300+0</td>\n",
       "      <td>2017.04.30</td>\n",
       "      <td>22:00:00</td>\n",
       "      <td>NaN</td>\n",
       "      <td>NaN</td>\n",
       "      <td>2023-06-13T12:03:45+0000</td>\n",
       "      <td>massive_peacock.pgn</td>\n",
       "    </tr>\n",
       "  </tbody>\n",
       "</table>\n",
       "<p>5 rows × 29 columns</p>\n",
       "</div>"
      ],
      "text/plain": [
       "                                game_id  game_order              event  \\\n",
       "0  7467c96c-2ffd-44c3-a15c-af055bed140b           1  Rated Bullet game   \n",
       "1  9ab1f268-36e8-4ba2-98c1-9d681f5e622e           2  Rated Bullet game   \n",
       "2  0f0dafc3-9ead-467c-a507-4028eba12c58           3  Rated Bullet game   \n",
       "3  181a04ac-d94c-4ca4-bc0e-39516169367e           4  Rated Bullet game   \n",
       "4  395f02d0-32f3-4e03-a23b-b03bdd5431e5           5   Rated Blitz game   \n",
       "\n",
       "                           site date_played round       white          black  \\\n",
       "0  https://lichess.org/ObT3MGJ6  ????.??.??     ?  marshall91    Nechemevich   \n",
       "1  https://lichess.org/wcL9cyTi  ????.??.??     ?    LTKAUNAS        Paupara   \n",
       "2  https://lichess.org/D32us0RF  ????.??.??     ?     ateoluz   yigitmustafa   \n",
       "3  https://lichess.org/6RBz5epC  ????.??.??     ?   le_batman  aleksandra_91   \n",
       "4  https://lichess.org/z2b2Y95l  ????.??.??     ?    Trollson        salahi2   \n",
       "\n",
       "  result  white_elo  ...  winner_loser_elo_diff  eco   termination  \\\n",
       "0    0-1       1926  ...                     43  B01  Time forfeit   \n",
       "1    1-0       1592  ...                    165  A00  Time forfeit   \n",
       "2    1-0       1247  ...                     73  D00  Time forfeit   \n",
       "3    1-0       2047  ...                     38  A00  Time forfeit   \n",
       "4    1-0       1767  ...                    -14  B01  Time forfeit   \n",
       "\n",
       "  time_control    utc_date  utc_time  variant ply_count  \\\n",
       "0         60+0  2017.04.30  22:00:00      NaN       NaN   \n",
       "1         60+0  2017.04.30  22:00:00      NaN       NaN   \n",
       "2         60+0  2017.04.30  22:00:00      NaN       NaN   \n",
       "3         60+0  2017.04.30  22:00:00      NaN       NaN   \n",
       "4        300+0  2017.04.30  22:00:00      NaN       NaN   \n",
       "\n",
       "               date_created            file_name  \n",
       "0  2023-06-13T12:03:45+0000  massive_peacock.pgn  \n",
       "1  2023-06-13T12:03:45+0000  massive_peacock.pgn  \n",
       "2  2023-06-13T12:03:45+0000  massive_peacock.pgn  \n",
       "3  2023-06-13T12:03:45+0000  massive_peacock.pgn  \n",
       "4  2023-06-13T12:03:45+0000  massive_peacock.pgn  \n",
       "\n",
       "[5 rows x 29 columns]"
      ]
     },
     "execution_count": 6,
     "metadata": {},
     "output_type": "execute_result"
    }
   ],
   "source": [
    "peacock_info.head()"
   ]
  },
  {
   "cell_type": "code",
   "execution_count": 7,
   "id": "77d818e2",
   "metadata": {},
   "outputs": [
    {
     "data": {
      "text/html": [
       "<div>\n",
       "<style scoped>\n",
       "    .dataframe tbody tr th:only-of-type {\n",
       "        vertical-align: middle;\n",
       "    }\n",
       "\n",
       "    .dataframe tbody tr th {\n",
       "        vertical-align: top;\n",
       "    }\n",
       "\n",
       "    .dataframe thead th {\n",
       "        text-align: right;\n",
       "    }\n",
       "</style>\n",
       "<table border=\"1\" class=\"dataframe\">\n",
       "  <thead>\n",
       "    <tr style=\"text-align: right;\">\n",
       "      <th></th>\n",
       "      <th>game_id</th>\n",
       "      <th>game_order</th>\n",
       "      <th>event</th>\n",
       "      <th>site</th>\n",
       "      <th>date_played</th>\n",
       "      <th>round</th>\n",
       "      <th>white</th>\n",
       "      <th>black</th>\n",
       "      <th>result</th>\n",
       "      <th>white_elo</th>\n",
       "      <th>...</th>\n",
       "      <th>winner_loser_elo_diff</th>\n",
       "      <th>eco</th>\n",
       "      <th>termination</th>\n",
       "      <th>time_control</th>\n",
       "      <th>utc_date</th>\n",
       "      <th>utc_time</th>\n",
       "      <th>variant</th>\n",
       "      <th>ply_count</th>\n",
       "      <th>date_created</th>\n",
       "      <th>file_name</th>\n",
       "    </tr>\n",
       "  </thead>\n",
       "  <tbody>\n",
       "    <tr>\n",
       "      <th>0</th>\n",
       "      <td>66379645-adc7-4fed-8208-4561e010b813</td>\n",
       "      <td>1</td>\n",
       "      <td>Rated Blitz game</td>\n",
       "      <td>https://lichess.org/0EMWIB5D</td>\n",
       "      <td>????.??.??</td>\n",
       "      <td>?</td>\n",
       "      <td>Safiron</td>\n",
       "      <td>AgentBroise</td>\n",
       "      <td>0-1</td>\n",
       "      <td>1343</td>\n",
       "      <td>...</td>\n",
       "      <td>-41</td>\n",
       "      <td>A00</td>\n",
       "      <td>Normal</td>\n",
       "      <td>240+3</td>\n",
       "      <td>2017.05.01</td>\n",
       "      <td>13:36:55</td>\n",
       "      <td>NaN</td>\n",
       "      <td>NaN</td>\n",
       "      <td>2023-06-13T16:18:56+0000</td>\n",
       "      <td>massive_fazan.pgn</td>\n",
       "    </tr>\n",
       "    <tr>\n",
       "      <th>1</th>\n",
       "      <td>bfa40e97-ed72-444b-a3b3-54ef803d8ac2</td>\n",
       "      <td>2</td>\n",
       "      <td>Rated Bullet game</td>\n",
       "      <td>https://lichess.org/56NnlbUW</td>\n",
       "      <td>????.??.??</td>\n",
       "      <td>?</td>\n",
       "      <td>AdiStf</td>\n",
       "      <td>DIgorevich</td>\n",
       "      <td>1-0</td>\n",
       "      <td>2089</td>\n",
       "      <td>...</td>\n",
       "      <td>42</td>\n",
       "      <td>A00</td>\n",
       "      <td>Normal</td>\n",
       "      <td>30+0</td>\n",
       "      <td>2017.05.01</td>\n",
       "      <td>13:36:56</td>\n",
       "      <td>NaN</td>\n",
       "      <td>NaN</td>\n",
       "      <td>2023-06-13T16:18:56+0000</td>\n",
       "      <td>massive_fazan.pgn</td>\n",
       "    </tr>\n",
       "    <tr>\n",
       "      <th>2</th>\n",
       "      <td>7f7f76bc-ab57-46db-b575-66f24b601217</td>\n",
       "      <td>3</td>\n",
       "      <td>Rated Bullet game</td>\n",
       "      <td>https://lichess.org/uylj2l8d</td>\n",
       "      <td>????.??.??</td>\n",
       "      <td>?</td>\n",
       "      <td>harshalp24</td>\n",
       "      <td>VLADIELIZAROVICH</td>\n",
       "      <td>1-0</td>\n",
       "      <td>1246</td>\n",
       "      <td>...</td>\n",
       "      <td>344</td>\n",
       "      <td>C00</td>\n",
       "      <td>Time forfeit</td>\n",
       "      <td>60+0</td>\n",
       "      <td>2017.05.01</td>\n",
       "      <td>13:36:56</td>\n",
       "      <td>NaN</td>\n",
       "      <td>NaN</td>\n",
       "      <td>2023-06-13T16:18:56+0000</td>\n",
       "      <td>massive_fazan.pgn</td>\n",
       "    </tr>\n",
       "    <tr>\n",
       "      <th>3</th>\n",
       "      <td>963f8bc4-9ebe-42d7-b8e3-393d0bc9ae8f</td>\n",
       "      <td>4</td>\n",
       "      <td>Rated Bullet game</td>\n",
       "      <td>https://lichess.org/T8t2RsGe</td>\n",
       "      <td>????.??.??</td>\n",
       "      <td>?</td>\n",
       "      <td>paerstymer</td>\n",
       "      <td>frajo</td>\n",
       "      <td>1-0</td>\n",
       "      <td>1726</td>\n",
       "      <td>...</td>\n",
       "      <td>-16</td>\n",
       "      <td>A43</td>\n",
       "      <td>Time forfeit</td>\n",
       "      <td>60+0</td>\n",
       "      <td>2017.05.01</td>\n",
       "      <td>13:36:56</td>\n",
       "      <td>NaN</td>\n",
       "      <td>NaN</td>\n",
       "      <td>2023-06-13T16:18:56+0000</td>\n",
       "      <td>massive_fazan.pgn</td>\n",
       "    </tr>\n",
       "    <tr>\n",
       "      <th>4</th>\n",
       "      <td>f89b0c5e-576e-47a4-8f97-5bed4e0ec750</td>\n",
       "      <td>5</td>\n",
       "      <td>Rated Bullet game</td>\n",
       "      <td>https://lichess.org/gVN90Rj7</td>\n",
       "      <td>????.??.??</td>\n",
       "      <td>?</td>\n",
       "      <td>sekhar2204</td>\n",
       "      <td>Anonim1976</td>\n",
       "      <td>0-1</td>\n",
       "      <td>1532</td>\n",
       "      <td>...</td>\n",
       "      <td>41</td>\n",
       "      <td>B20</td>\n",
       "      <td>Normal</td>\n",
       "      <td>60+0</td>\n",
       "      <td>2017.05.01</td>\n",
       "      <td>13:36:56</td>\n",
       "      <td>NaN</td>\n",
       "      <td>NaN</td>\n",
       "      <td>2023-06-13T16:18:56+0000</td>\n",
       "      <td>massive_fazan.pgn</td>\n",
       "    </tr>\n",
       "  </tbody>\n",
       "</table>\n",
       "<p>5 rows × 29 columns</p>\n",
       "</div>"
      ],
      "text/plain": [
       "                                game_id  game_order              event  \\\n",
       "0  66379645-adc7-4fed-8208-4561e010b813           1   Rated Blitz game   \n",
       "1  bfa40e97-ed72-444b-a3b3-54ef803d8ac2           2  Rated Bullet game   \n",
       "2  7f7f76bc-ab57-46db-b575-66f24b601217           3  Rated Bullet game   \n",
       "3  963f8bc4-9ebe-42d7-b8e3-393d0bc9ae8f           4  Rated Bullet game   \n",
       "4  f89b0c5e-576e-47a4-8f97-5bed4e0ec750           5  Rated Bullet game   \n",
       "\n",
       "                           site date_played round       white  \\\n",
       "0  https://lichess.org/0EMWIB5D  ????.??.??     ?     Safiron   \n",
       "1  https://lichess.org/56NnlbUW  ????.??.??     ?      AdiStf   \n",
       "2  https://lichess.org/uylj2l8d  ????.??.??     ?  harshalp24   \n",
       "3  https://lichess.org/T8t2RsGe  ????.??.??     ?  paerstymer   \n",
       "4  https://lichess.org/gVN90Rj7  ????.??.??     ?  sekhar2204   \n",
       "\n",
       "              black result  white_elo  ...  winner_loser_elo_diff  eco  \\\n",
       "0       AgentBroise    0-1       1343  ...                    -41  A00   \n",
       "1        DIgorevich    1-0       2089  ...                     42  A00   \n",
       "2  VLADIELIZAROVICH    1-0       1246  ...                    344  C00   \n",
       "3             frajo    1-0       1726  ...                    -16  A43   \n",
       "4        Anonim1976    0-1       1532  ...                     41  B20   \n",
       "\n",
       "    termination time_control    utc_date  utc_time  variant ply_count  \\\n",
       "0        Normal        240+3  2017.05.01  13:36:55      NaN       NaN   \n",
       "1        Normal         30+0  2017.05.01  13:36:56      NaN       NaN   \n",
       "2  Time forfeit         60+0  2017.05.01  13:36:56      NaN       NaN   \n",
       "3  Time forfeit         60+0  2017.05.01  13:36:56      NaN       NaN   \n",
       "4        Normal         60+0  2017.05.01  13:36:56      NaN       NaN   \n",
       "\n",
       "               date_created          file_name  \n",
       "0  2023-06-13T16:18:56+0000  massive_fazan.pgn  \n",
       "1  2023-06-13T16:18:56+0000  massive_fazan.pgn  \n",
       "2  2023-06-13T16:18:56+0000  massive_fazan.pgn  \n",
       "3  2023-06-13T16:18:56+0000  massive_fazan.pgn  \n",
       "4  2023-06-13T16:18:56+0000  massive_fazan.pgn  \n",
       "\n",
       "[5 rows x 29 columns]"
      ]
     },
     "execution_count": 7,
     "metadata": {},
     "output_type": "execute_result"
    }
   ],
   "source": [
    "fazan_info.head()"
   ]
  },
  {
   "cell_type": "markdown",
   "id": "1e0c0bba",
   "metadata": {},
   "source": [
    "**Все верно - в датафреймах различные игры, столбцы и содержание соответствует ожидаемому в обоих датафреймах**"
   ]
  },
  {
   "cell_type": "markdown",
   "id": "5c283525",
   "metadata": {},
   "source": [
    "# 2) Дополнительные характеристики"
   ]
  },
  {
   "cell_type": "markdown",
   "id": "3705440e",
   "metadata": {},
   "source": [
    "1. **Оценки ходов**"
   ]
  },
  {
   "cell_type": "code",
   "execution_count": 3,
   "id": "495cfad2",
   "metadata": {},
   "outputs": [],
   "source": [
    "#создадим функцию для более удобного чтения исходных файлов игры\n",
    "def read_pgn_file(file_path):\n",
    "    with open(file_path) as f:\n",
    "        game = chess.pgn.read_game(f)\n",
    "        while game is not None:\n",
    "            yield game\n",
    "            game = chess.pgn.read_game(f)"
   ]
  },
  {
   "cell_type": "markdown",
   "id": "15217142",
   "metadata": {},
   "source": [
    "Для первого датафрейма:"
   ]
  },
  {
   "cell_type": "code",
   "execution_count": 4,
   "id": "969f27cc",
   "metadata": {},
   "outputs": [
    {
     "name": "stderr",
     "output_type": "stream",
     "text": [
      "200000it [1:26:30, 38.53it/s]\n"
     ]
    }
   ],
   "source": [
    "#Выведем некоторые признаки:\n",
    "c1_list = [] #порядковый номер игры\n",
    "c2_list = [] #ход в игре\n",
    "c3_list = [] # оценка хода\n",
    "\n",
    "for i, game in tqdm(enumerate(read_pgn_file('massive_peacock.pgn'))):\n",
    "    numb = i + 1\n",
    "    node = game\n",
    "    while not node.is_end():\n",
    "        next_node = node.variation(0)\n",
    "        move = node.board().san(next_node.move)\n",
    "        evaluation = next_node.eval()\n",
    "        c1_list.append(numb)\n",
    "        c2_list.append(move)\n",
    "        c3_list.append(evaluation)\n",
    "        node = next_node"
   ]
  },
  {
   "cell_type": "code",
   "execution_count": 5,
   "id": "d31d0f08",
   "metadata": {},
   "outputs": [],
   "source": [
    "# Далее преобразуем листы в np.array и создадим соответсвующий датафрейм\n",
    "c1 = np.array(c1_list)\n",
    "c2 = np.array(c2_list)\n",
    "c3 = np.array(c3_list)\n",
    "\n",
    "new_data = pd.DataFrame()\n",
    "new_data['Game'] = c1\n",
    "new_data['Move'] = c2\n",
    "new_data['Eval'] = c3\n",
    "\n",
    "# И запишем результат в отдельный файл\n",
    "#new_data.to_csv('evals_peackock.csv')"
   ]
  },
  {
   "cell_type": "markdown",
   "id": "1fbf1fd5",
   "metadata": {},
   "source": [
    "Для второго датафрейма:"
   ]
  },
  {
   "cell_type": "code",
   "execution_count": null,
   "id": "b18f476f",
   "metadata": {},
   "outputs": [],
   "source": [
    "#Выведем некоторые признаки:\n",
    "c1_list = [] #порядковый номер игры\n",
    "c2_list = [] #ход в игре\n",
    "c3_list = [] # оценка хода\n",
    "\n",
    "for i, game in tqdm(enumerate(read_pgn_file('massive_fazan.pgn'))):\n",
    "    numb = i + 1\n",
    "    node = game\n",
    "    while not node.is_end():\n",
    "        next_node = node.variation(0)\n",
    "        move = node.board().san(next_node.move)\n",
    "        evaluation = next_node.eval()\n",
    "        c1_list.append(numb)\n",
    "        c2_list.append(move)\n",
    "        c3_list.append(evaluation)\n",
    "        node = next_node"
   ]
  },
  {
   "attachments": {
    "74dd34e3-6c05-4eb5-b65a-cb99537aa270.jpg": {
     "image/jpeg": "[encoded data removed]"
    }
   },
   "cell_type": "markdown",
   "id": "34951123",
   "metadata": {},
   "source": [
    "![74dd34e3-6c05-4eb5-b65a-cb99537aa270.jpg](attachment:74dd34e3-6c05-4eb5-b65a-cb99537aa270.jpg)"
   ]
  },
  {
   "cell_type": "code",
   "execution_count": null,
   "id": "aad4c64f",
   "metadata": {},
   "outputs": [],
   "source": [
    "# Далее преобразуем листы в np.array и создадим соответсвующий датафрейм\n",
    "c1 = np.array(c1_list)\n",
    "c2 = np.array(c2_list)\n",
    "c3 = np.array(c3_list)\n",
    "\n",
    "new_data = pd.DataFrame()\n",
    "new_data['Game'] = c1\n",
    "new_data['Move'] = c2\n",
    "new_data['Eval'] = c3\n",
    "\n",
    "# И запишем результат в отдельный файл\n",
    "#new_data.to_csv('evals_fazan.csv')"
   ]
  },
  {
   "cell_type": "markdown",
   "id": "47cb15fe",
   "metadata": {},
   "source": [
    "2. **Веремя ходов**"
   ]
  },
  {
   "cell_type": "markdown",
   "id": "43ec1520",
   "metadata": {},
   "source": [
    "Для первого датафрейма:"
   ]
  },
  {
   "cell_type": "code",
   "execution_count": 9,
   "id": "a4b9b219",
   "metadata": {},
   "outputs": [
    {
     "name": "stderr",
     "output_type": "stream",
     "text": [
      "200000it [1:28:02, 37.86it/s]\n"
     ]
    }
   ],
   "source": [
    "c1_list = []  # Number of the game\n",
    "c2_list = []  # Number of the move\n",
    "c3_list = []  # Time for each move (%clk)\n",
    "\n",
    "for i, game in tqdm(enumerate(read_pgn_file('massive_peacock.pgn'))):\n",
    "    numb = i + 1\n",
    "    node = game\n",
    "    while not node.is_end():\n",
    "        next_node = node.variation(0)\n",
    "        move = node.board().san(next_node.move)\n",
    "        comment = next_node.comment\n",
    "        time_match = re.search(r\"\\%clk\\s(\\d+:\\d+:\\d+)\", comment)\n",
    "        time = time_match.group(1) if time_match else None\n",
    "        c1_list.append(numb)\n",
    "        c2_list.append(move)\n",
    "        c3_list.append(time)\n",
    "        node = next_node"
   ]
  },
  {
   "cell_type": "code",
   "execution_count": 10,
   "id": "fe5a3e51",
   "metadata": {},
   "outputs": [],
   "source": [
    "# Далее преобразуем листы в np.array и создадим соответсвующий датафрейм\n",
    "c1 = np.array(c1_list)\n",
    "c2 = np.array(c2_list)\n",
    "c3 = np.array(c3_list)\n",
    "\n",
    "new_data = pd.DataFrame()\n",
    "new_data['Game'] = c1\n",
    "new_data['Move'] = c2\n",
    "new_data['Clock'] = c3\n",
    "\n",
    "# И запишем результат в отдельный файл\n",
    "#new_data.to_csv('clock_peackock.csv')"
   ]
  },
  {
   "cell_type": "markdown",
   "id": "5e2518f7",
   "metadata": {},
   "source": [
    "Для второго датафрейма:"
   ]
  },
  {
   "cell_type": "code",
   "execution_count": null,
   "id": "dd5d7909",
   "metadata": {},
   "outputs": [],
   "source": [
    "c1_list = []  # Number of the game\n",
    "c2_list = []  # Number of the move\n",
    "c3_list = []  # Time for each move (%clk)\n",
    "\n",
    "for i, game in tqdm(enumerate(read_pgn_file('massive_fazan.pgn'))):\n",
    "    numb = i + 1\n",
    "    node = game\n",
    "    while not node.is_end():\n",
    "        next_node = node.variation(0)\n",
    "        move = node.board().san(next_node.move)\n",
    "        comment = next_node.comment\n",
    "        time_match = re.search(r\"\\%clk\\s(\\d+:\\d+:\\d+)\", comment)\n",
    "        time = time_match.group(1) if time_match else None\n",
    "        c1_list.append(numb)\n",
    "        c2_list.append(move)\n",
    "        c3_list.append(time)\n",
    "        node = next_node"
   ]
  },
  {
   "attachments": {
    "ef05cee9-f004-4e9b-9953-d5a1e03b4c3b.jpg": {
     "image/jpeg": "[encoded data removed]"
    }
   },
   "cell_type": "markdown",
   "id": "b1eb9f04",
   "metadata": {},
   "source": [
    "![ef05cee9-f004-4e9b-9953-d5a1e03b4c3b.jpg](attachment:ef05cee9-f004-4e9b-9953-d5a1e03b4c3b.jpg)"
   ]
  },
  {
   "cell_type": "code",
   "execution_count": null,
   "id": "cc677866",
   "metadata": {},
   "outputs": [],
   "source": [
    "# Далее преобразуем листы в np.array и создадим соответсвующий датафрейм\n",
    "c1 = np.array(c1_list)\n",
    "c2 = np.array(c2_list)\n",
    "c3 = np.array(c3_list)\n",
    "\n",
    "new_data = pd.DataFrame()\n",
    "new_data['Game'] = c1\n",
    "new_data['Move'] = c2\n",
    "new_data['Clock'] = c3\n",
    "\n",
    "# И запишем результат в отдельный файл\n",
    "#new_data.to_csv('clock_fazan.csv')"
   ]
  },
  {
   "cell_type": "markdown",
   "id": "977a503b",
   "metadata": {},
   "source": [
    "3. **Дополнительное преобразование оценок ходов и объединение их с временем** "
   ]
  },
  {
   "cell_type": "markdown",
   "id": "a24ee656",
   "metadata": {},
   "source": [
    "Для первого датафрейма"
   ]
  },
  {
   "cell_type": "code",
   "execution_count": 5,
   "id": "ca93c106",
   "metadata": {},
   "outputs": [],
   "source": [
    "clk = pd.read_csv('clock_peackock.csv')\n",
    "evall = pd.read_csv('evals_peackock.csv')"
   ]
  },
  {
   "cell_type": "code",
   "execution_count": 28,
   "id": "6be675ac",
   "metadata": {},
   "outputs": [],
   "source": [
    "#Соединяем\n",
    "cleval = evall.join(clk[['Unnamed: 0', \"Clock\"]], on = 'Unnamed: 0', how = \"left\", lsuffix='_left', rsuffix='_right')\n",
    "cleval = cleval.drop(columns = ['Unnamed: 0_left', 'Unnamed: 0_right', \"Move\"])"
   ]
  },
  {
   "cell_type": "markdown",
   "id": "3c3d0091",
   "metadata": {},
   "source": [
    "Для второго датафрейма"
   ]
  },
  {
   "cell_type": "code",
   "execution_count": 73,
   "id": "c682f18a",
   "metadata": {},
   "outputs": [],
   "source": [
    "clk1 = pd.read_csv('clock_fazan.csv')\n",
    "evall1 = pd.read_csv('evals_fazan.csv')"
   ]
  },
  {
   "cell_type": "code",
   "execution_count": 74,
   "id": "5b48ad67",
   "metadata": {},
   "outputs": [],
   "source": [
    "#Соединяем\n",
    "cleval1 = evall1.join(clk1[['Unnamed: 0', \"Clock\"]], on = 'Unnamed: 0', how = \"left\", lsuffix='_left', rsuffix='_right')\n",
    "cleval1 = cleval1.drop(columns = ['Unnamed: 0_left', 'Unnamed: 0_right', \"Move\"])"
   ]
  },
  {
   "cell_type": "markdown",
   "id": "3aeb874e",
   "metadata": {},
   "source": [
    "3. **Дебюты**"
   ]
  },
  {
   "cell_type": "markdown",
   "id": "b55333c5",
   "metadata": {},
   "source": [
    "Для первого датафрейма"
   ]
  },
  {
   "cell_type": "code",
   "execution_count": 31,
   "id": "9042f3fc",
   "metadata": {},
   "outputs": [
    {
     "name": "stderr",
     "output_type": "stream",
     "text": [
      "200000it [08:52, 375.76it/s]\n"
     ]
    }
   ],
   "source": [
    "def read_pgn_file(file_path):\n",
    "    with open(file_path) as f:\n",
    "        game = chess.pgn.read_game(f)\n",
    "        while game is not None:\n",
    "            yield game\n",
    "            game = chess.pgn.read_game(f)\n",
    "# Извлечем из исходого датасета все дебюты, используя уже имеющуюся функцию чтения игр .pgn\n",
    "openings = []\n",
    "for i, game in tqdm(enumerate(read_pgn_file('massive_peacock.pgn'))):\n",
    "        headers = game.headers\n",
    "        for key, value in headers.items():\n",
    "            if key == 'Opening':\n",
    "                openings.append(value)"
   ]
  },
  {
   "cell_type": "code",
   "execution_count": 32,
   "id": "3924518b",
   "metadata": {},
   "outputs": [],
   "source": [
    "op = np.array(openings)"
   ]
  },
  {
   "cell_type": "markdown",
   "id": "3843b087",
   "metadata": {},
   "source": [
    "Для второго датафрейма"
   ]
  },
  {
   "cell_type": "code",
   "execution_count": 76,
   "id": "cdd762aa",
   "metadata": {},
   "outputs": [
    {
     "name": "stderr",
     "output_type": "stream",
     "text": [
      "200000it [08:16, 402.66it/s]\n"
     ]
    }
   ],
   "source": [
    "openings1 = []\n",
    "for i, game in tqdm(enumerate(read_pgn_file('massive_fazan.pgn'))):\n",
    "        headers = game.headers\n",
    "        for key, value in headers.items():\n",
    "            if key == 'Opening':\n",
    "                openings1.append(value)"
   ]
  },
  {
   "cell_type": "code",
   "execution_count": 78,
   "id": "f35a4ebc",
   "metadata": {},
   "outputs": [],
   "source": [
    "op1 = np.array(openings1)"
   ]
  },
  {
   "cell_type": "markdown",
   "id": "5a9fab29",
   "metadata": {},
   "source": [
    "# 4) Формирование финальных датасетов"
   ]
  },
  {
   "cell_type": "markdown",
   "id": "671b4d65",
   "metadata": {},
   "source": [
    "1. **Разберемся с первым датасетом (peacock)**"
   ]
  },
  {
   "cell_type": "markdown",
   "id": "1ca5fb2b",
   "metadata": {},
   "source": [
    "Так как основным призаком, используещимся в данном проекте является оценка ходов игроков, в соотвествии с наличием подобных данных необходимо сократить имеющееся количество игр в датасете."
   ]
  },
  {
   "cell_type": "code",
   "execution_count": 51,
   "id": "8023b689",
   "metadata": {},
   "outputs": [],
   "source": [
    "#Загрузим первый датасет еще раз:\n",
    "peacock_info = pd.read_csv(\"massive_peacock_game_info.csv\")\n",
    "peacock_moves = pd.read_csv(\"massive_peacock_moves.csv\")"
   ]
  },
  {
   "cell_type": "code",
   "execution_count": 52,
   "id": "d3c42379",
   "metadata": {},
   "outputs": [
    {
     "name": "stderr",
     "output_type": "stream",
     "text": [
      "C:\\Users\\79160\\anaconda3\\lib\\site-packages\\pandas\\core\\indexing.py:1884: SettingWithCopyWarning: \n",
      "A value is trying to be set on a copy of a slice from a DataFrame.\n",
      "Try using .loc[row_indexer,col_indexer] = value instead\n",
      "\n",
      "See the caveats in the documentation: https://pandas.pydata.org/pandas-docs/stable/user_guide/indexing.html#returning-a-view-versus-a-copy\n",
      "  self._setitem_single_column(loc, val, pi)\n"
     ]
    }
   ],
   "source": [
    "# Добавим в датасат с ходами полученные численные оценки\n",
    "peacock_moves['eval'] = cleval['Eval']\n",
    "peacock_moves['clk'] = cleval['Clock']\n",
    "# Оставим только те, для которых есть эти оценки\n",
    "upd_peacock_moves = peacock_moves[peacock_moves['eval'].notnull()]\n",
    "#Убедимся, что значения оценок, которые находились в формате PovScore превратятся в строки\n",
    "upd_peacock_moves.loc[:, ['eval']] = upd_peacock_moves.loc[:, ['eval']].astype(str) #Оценки имеют игровой формат PovScore"
   ]
  },
  {
   "cell_type": "markdown",
   "id": "5f3a4a94",
   "metadata": {},
   "source": [
    "* Дополнительное преобразование оценок ходов"
   ]
  },
  {
   "cell_type": "code",
   "execution_count": 53,
   "id": "bde46cde",
   "metadata": {},
   "outputs": [
    {
     "name": "stderr",
     "output_type": "stream",
     "text": [
      "100%|██████████| 1082773/1082773 [00:02<00:00, 469255.69it/s]\n"
     ]
    },
    {
     "data": {
      "text/plain": [
       "(1082773, (1082773,))"
      ]
     },
     "execution_count": 53,
     "metadata": {},
     "output_type": "execute_result"
    }
   ],
   "source": [
    "# Получим список чисел,соответствующих оценку хода\n",
    "numbers = []\n",
    "strings = upd_peacock_moves['eval'].values\n",
    "for string in tqdm(strings):\n",
    "    matches = re.findall(r'-?\\d+', string)\n",
    "    for match in matches:\n",
    "        numbers.append(int(match))\n",
    "len(numbers), upd_peacock_moves['eval'].shape"
   ]
  },
  {
   "cell_type": "code",
   "execution_count": 54,
   "id": "a3f0d3bd",
   "metadata": {},
   "outputs": [
    {
     "name": "stderr",
     "output_type": "stream",
     "text": [
      "C:\\Users\\79160\\AppData\\Local\\Temp/ipykernel_11000/3059804145.py:2: SettingWithCopyWarning: \n",
      "A value is trying to be set on a copy of a slice from a DataFrame.\n",
      "Try using .loc[row_indexer,col_indexer] = value instead\n",
      "\n",
      "See the caveats in the documentation: https://pandas.pydata.org/pandas-docs/stable/user_guide/indexing.html#returning-a-view-versus-a-copy\n",
      "  upd_peacock_moves['eval'] = numbers\n"
     ]
    }
   ],
   "source": [
    "# Обновим значение колонки\n",
    "upd_peacock_moves['eval'] = numbers"
   ]
  },
  {
   "cell_type": "markdown",
   "id": "b1d2a1cb",
   "metadata": {},
   "source": [
    "### Теперь преобразуем датасет с общим описанием игр"
   ]
  },
  {
   "cell_type": "code",
   "execution_count": 55,
   "id": "d0980d59",
   "metadata": {},
   "outputs": [],
   "source": [
    "#Дополнительно преобразуем колонку с типами игр\n",
    "x = peacock_info['event'].to_frame()\n",
    "x[['A', 'B']] = x['event'].str.split('https', 1, expand=True)\n",
    "peacock_info['event'] = x['A']"
   ]
  },
  {
   "cell_type": "markdown",
   "id": "49416c05",
   "metadata": {},
   "source": [
    "#### Оставим только Rated Classical game, так как за короткое время в Blitz и Bullet трудно определить уровень игрока. Более того, в каждом из этих режимов разные стандарты рейтинга, что в разы усложнит дальнейшее машинное обучение"
   ]
  },
  {
   "cell_type": "code",
   "execution_count": 56,
   "id": "de6dc328",
   "metadata": {},
   "outputs": [
    {
     "data": {
      "text/plain": [
       "Rated Blitz game                 79158\n",
       "Rated Classical game             44959\n",
       "Rated Bullet game                39561\n",
       "Rated Blitz tournament           16464\n",
       "Rated Bullet tournament          10716\n",
       "Rated Classical tournament        5581\n",
       "Rated UltraBullet tournament      1812\n",
       "Rated UltraBullet game            1149\n",
       "Rated Correspondence game          600\n",
       "Name: event, dtype: int64"
      ]
     },
     "execution_count": 56,
     "metadata": {},
     "output_type": "execute_result"
    }
   ],
   "source": [
    "peacock_info['event'].value_counts()"
   ]
  },
  {
   "cell_type": "code",
   "execution_count": 57,
   "id": "9a53c9b2",
   "metadata": {},
   "outputs": [],
   "source": [
    "#Добавим дебюты\n",
    "peacock_info['op'] = op\n",
    "#Оставим только  Classical\n",
    "peacock_info = peacock_info[peacock_info['event'] == 'Rated Classical game']"
   ]
  },
  {
   "cell_type": "code",
   "execution_count": 58,
   "id": "29894077",
   "metadata": {},
   "outputs": [],
   "source": [
    "# Оставшиеся игры\n",
    "games_left = upd_peacock_moves['game_id'].values\n",
    "upd_peacock_info = peacock_info[peacock_info['game_id'].isin(games_left)]"
   ]
  },
  {
   "cell_type": "code",
   "execution_count": 59,
   "id": "bca62d0f",
   "metadata": {},
   "outputs": [],
   "source": [
    "# Оставим только интерпретируемые и некопирующиеся элементы\n",
    "upd_peacock_info = upd_peacock_info[['game_id', 'event', 'white', 'black', 'result', 'white_elo',\n",
    "       'black_elo', 'winner_loser_elo_diff', 'eco', 'termination', 'time_control', 'op']]"
   ]
  },
  {
   "cell_type": "code",
   "execution_count": 66,
   "id": "353b74b1",
   "metadata": {},
   "outputs": [
    {
     "name": "stdout",
     "output_type": "stream",
     "text": [
      "5857\n",
      "17065\n"
     ]
    }
   ],
   "source": [
    "print(upd_peacock_info['game_id'].nunique())\n",
    "print(upd_peacock_moves['game_id'].nunique())"
   ]
  },
  {
   "cell_type": "code",
   "execution_count": 68,
   "id": "f8d50dc2",
   "metadata": {},
   "outputs": [],
   "source": [
    "#Необходимо подкорректировать датасет с ходами, так как мы укоротили количество игр засчет фиксации одного режима\n",
    "upd_peacock_moves = upd_peacock_moves[upd_peacock_moves['game_id'].isin(upd_peacock_info['game_id'].values)]"
   ]
  },
  {
   "cell_type": "markdown",
   "id": "0dba1d5f",
   "metadata": {},
   "source": [
    "Перед тем как загружать в отдельные файлы, проверим, все ли на месте:"
   ]
  },
  {
   "cell_type": "code",
   "execution_count": 69,
   "id": "576d5378",
   "metadata": {},
   "outputs": [
    {
     "name": "stdout",
     "output_type": "stream",
     "text": [
      "(5857, 12) Index(['game_id', 'event', 'white', 'black', 'result', 'white_elo',\n",
      "       'black_elo', 'winner_loser_elo_diff', 'eco', 'termination',\n",
      "       'time_control', 'op'],\n",
      "      dtype='object')\n"
     ]
    },
    {
     "data": {
      "text/html": [
       "<div>\n",
       "<style scoped>\n",
       "    .dataframe tbody tr th:only-of-type {\n",
       "        vertical-align: middle;\n",
       "    }\n",
       "\n",
       "    .dataframe tbody tr th {\n",
       "        vertical-align: top;\n",
       "    }\n",
       "\n",
       "    .dataframe thead th {\n",
       "        text-align: right;\n",
       "    }\n",
       "</style>\n",
       "<table border=\"1\" class=\"dataframe\">\n",
       "  <thead>\n",
       "    <tr style=\"text-align: right;\">\n",
       "      <th></th>\n",
       "      <th>game_id</th>\n",
       "      <th>event</th>\n",
       "      <th>white</th>\n",
       "      <th>black</th>\n",
       "      <th>result</th>\n",
       "      <th>white_elo</th>\n",
       "      <th>black_elo</th>\n",
       "      <th>winner_loser_elo_diff</th>\n",
       "      <th>eco</th>\n",
       "      <th>termination</th>\n",
       "      <th>time_control</th>\n",
       "      <th>op</th>\n",
       "    </tr>\n",
       "  </thead>\n",
       "  <tbody>\n",
       "    <tr>\n",
       "      <th>144</th>\n",
       "      <td>c17b10c9-84c5-4c85-8c3b-b7866d0e25de</td>\n",
       "      <td>Rated Classical game</td>\n",
       "      <td>TheYams</td>\n",
       "      <td>amir188</td>\n",
       "      <td>1-0</td>\n",
       "      <td>1607</td>\n",
       "      <td>1470</td>\n",
       "      <td>137</td>\n",
       "      <td>A04</td>\n",
       "      <td>Time forfeit</td>\n",
       "      <td>300+10</td>\n",
       "      <td>Zukertort Opening: Black Mustang Defense</td>\n",
       "    </tr>\n",
       "    <tr>\n",
       "      <th>184</th>\n",
       "      <td>63fbeb77-cbcf-4e0a-ba24-a9fcce5c5c4f</td>\n",
       "      <td>Rated Classical game</td>\n",
       "      <td>jarquincastillo</td>\n",
       "      <td>angelasturias</td>\n",
       "      <td>1-0</td>\n",
       "      <td>1723</td>\n",
       "      <td>1702</td>\n",
       "      <td>21</td>\n",
       "      <td>C34</td>\n",
       "      <td>Time forfeit</td>\n",
       "      <td>600+0</td>\n",
       "      <td>King's Gambit Accepted, Fischer Defense</td>\n",
       "    </tr>\n",
       "    <tr>\n",
       "      <th>209</th>\n",
       "      <td>6c678d21-9c2c-47cc-acc8-e4d4be1aeb51</td>\n",
       "      <td>Rated Classical game</td>\n",
       "      <td>Ygreek</td>\n",
       "      <td>roguemarvel</td>\n",
       "      <td>0-1</td>\n",
       "      <td>2030</td>\n",
       "      <td>1955</td>\n",
       "      <td>-75</td>\n",
       "      <td>B28</td>\n",
       "      <td>Normal</td>\n",
       "      <td>600+0</td>\n",
       "      <td>Sicilian Defense: O'Kelly Variation, Normal Sy...</td>\n",
       "    </tr>\n",
       "    <tr>\n",
       "      <th>224</th>\n",
       "      <td>77346e14-a662-424c-94f0-37330765c1d0</td>\n",
       "      <td>Rated Classical game</td>\n",
       "      <td>laserany</td>\n",
       "      <td>Theache</td>\n",
       "      <td>1-0</td>\n",
       "      <td>1462</td>\n",
       "      <td>1455</td>\n",
       "      <td>7</td>\n",
       "      <td>C61</td>\n",
       "      <td>Normal</td>\n",
       "      <td>600+0</td>\n",
       "      <td>Ruy Lopez: Bird Variation</td>\n",
       "    </tr>\n",
       "    <tr>\n",
       "      <th>292</th>\n",
       "      <td>ad728a3a-85df-4727-a596-e0c5e56b5f8e</td>\n",
       "      <td>Rated Classical game</td>\n",
       "      <td>minoulechat</td>\n",
       "      <td>Epicm14</td>\n",
       "      <td>0-1</td>\n",
       "      <td>1375</td>\n",
       "      <td>1142</td>\n",
       "      <td>-233</td>\n",
       "      <td>C42</td>\n",
       "      <td>Normal</td>\n",
       "      <td>480+0</td>\n",
       "      <td>Russian Game: Three Knights Game</td>\n",
       "    </tr>\n",
       "  </tbody>\n",
       "</table>\n",
       "</div>"
      ],
      "text/plain": [
       "                                  game_id                 event  \\\n",
       "144  c17b10c9-84c5-4c85-8c3b-b7866d0e25de  Rated Classical game   \n",
       "184  63fbeb77-cbcf-4e0a-ba24-a9fcce5c5c4f  Rated Classical game   \n",
       "209  6c678d21-9c2c-47cc-acc8-e4d4be1aeb51  Rated Classical game   \n",
       "224  77346e14-a662-424c-94f0-37330765c1d0  Rated Classical game   \n",
       "292  ad728a3a-85df-4727-a596-e0c5e56b5f8e  Rated Classical game   \n",
       "\n",
       "               white          black result  white_elo  black_elo  \\\n",
       "144          TheYams        amir188    1-0       1607       1470   \n",
       "184  jarquincastillo  angelasturias    1-0       1723       1702   \n",
       "209           Ygreek    roguemarvel    0-1       2030       1955   \n",
       "224         laserany        Theache    1-0       1462       1455   \n",
       "292      minoulechat        Epicm14    0-1       1375       1142   \n",
       "\n",
       "     winner_loser_elo_diff  eco   termination time_control  \\\n",
       "144                    137  A04  Time forfeit       300+10   \n",
       "184                     21  C34  Time forfeit        600+0   \n",
       "209                    -75  B28        Normal        600+0   \n",
       "224                      7  C61        Normal        600+0   \n",
       "292                   -233  C42        Normal        480+0   \n",
       "\n",
       "                                                    op  \n",
       "144           Zukertort Opening: Black Mustang Defense  \n",
       "184            King's Gambit Accepted, Fischer Defense  \n",
       "209  Sicilian Defense: O'Kelly Variation, Normal Sy...  \n",
       "224                          Ruy Lopez: Bird Variation  \n",
       "292                   Russian Game: Three Knights Game  "
      ]
     },
     "execution_count": 69,
     "metadata": {},
     "output_type": "execute_result"
    }
   ],
   "source": [
    "print(upd_peacock_info.shape, upd_peacock_info.columns)\n",
    "upd_peacock_info.head()"
   ]
  },
  {
   "cell_type": "code",
   "execution_count": 70,
   "id": "c46219f0",
   "metadata": {
    "scrolled": true
   },
   "outputs": [
    {
     "name": "stdout",
     "output_type": "stream",
     "text": [
      "(378926, 66) Index(['game_id', 'move_no', 'move_no_pair', 'player', 'notation', 'move',\n",
      "       'from_square', 'to_square', 'piece', 'color', 'fen', 'is_check',\n",
      "       'is_check_mate', 'is_fifty_moves', 'is_fivefold_repetition',\n",
      "       'is_game_over', 'is_insufficient_material', 'white_count',\n",
      "       'black_count', 'white_pawn_count', 'black_pawn_count',\n",
      "       'white_queen_count', 'black_queen_count', 'white_bishop_count',\n",
      "       'black_bishop_count', 'white_knight_count', 'black_knight_count',\n",
      "       'white_rook_count', 'black_rook_count', 'captured_score_for_white',\n",
      "       'captured_score_for_black', 'fen_row1_white_count',\n",
      "       'fen_row2_white_count', 'fen_row3_white_count', 'fen_row4_white_count',\n",
      "       'fen_row5_white_count', 'fen_row6_white_count', 'fen_row7_white_count',\n",
      "       'fen_row8_white_count', 'fen_row1_white_value', 'fen_row2_white_value',\n",
      "       'fen_row3_white_value', 'fen_row4_white_value', 'fen_row5_white_value',\n",
      "       'fen_row6_white_value', 'fen_row7_white_value', 'fen_row8_white_value',\n",
      "       'fen_row1_black_count', 'fen_row2_black_count', 'fen_row3_black_count',\n",
      "       'fen_row4_black_count', 'fen_row5_black_count', 'fen_row6_black_count',\n",
      "       'fen_row7_black_count', 'fen_row8_black_count', 'fen_row1_black_value',\n",
      "       'fen_row2_black_value', 'fen_row3_black_value', 'fen_row4_black_value',\n",
      "       'fen_row5_black_value', 'fen_row6_black_value', 'fen_row7_black_value',\n",
      "       'fen_row8_black_value', 'move_sequence', 'eval', 'clk'],\n",
      "      dtype='object')\n"
     ]
    },
    {
     "data": {
      "text/html": [
       "<div>\n",
       "<style scoped>\n",
       "    .dataframe tbody tr th:only-of-type {\n",
       "        vertical-align: middle;\n",
       "    }\n",
       "\n",
       "    .dataframe tbody tr th {\n",
       "        vertical-align: top;\n",
       "    }\n",
       "\n",
       "    .dataframe thead th {\n",
       "        text-align: right;\n",
       "    }\n",
       "</style>\n",
       "<table border=\"1\" class=\"dataframe\">\n",
       "  <thead>\n",
       "    <tr style=\"text-align: right;\">\n",
       "      <th></th>\n",
       "      <th>game_id</th>\n",
       "      <th>move_no</th>\n",
       "      <th>move_no_pair</th>\n",
       "      <th>player</th>\n",
       "      <th>notation</th>\n",
       "      <th>move</th>\n",
       "      <th>from_square</th>\n",
       "      <th>to_square</th>\n",
       "      <th>piece</th>\n",
       "      <th>color</th>\n",
       "      <th>...</th>\n",
       "      <th>fen_row2_black_value</th>\n",
       "      <th>fen_row3_black_value</th>\n",
       "      <th>fen_row4_black_value</th>\n",
       "      <th>fen_row5_black_value</th>\n",
       "      <th>fen_row6_black_value</th>\n",
       "      <th>fen_row7_black_value</th>\n",
       "      <th>fen_row8_black_value</th>\n",
       "      <th>move_sequence</th>\n",
       "      <th>eval</th>\n",
       "      <th>clk</th>\n",
       "    </tr>\n",
       "  </thead>\n",
       "  <tbody>\n",
       "    <tr>\n",
       "      <th>10031</th>\n",
       "      <td>c17b10c9-84c5-4c85-8c3b-b7866d0e25de</td>\n",
       "      <td>1</td>\n",
       "      <td>1</td>\n",
       "      <td>TheYams</td>\n",
       "      <td>Nf3</td>\n",
       "      <td>g1f3</td>\n",
       "      <td>g1</td>\n",
       "      <td>f3</td>\n",
       "      <td>N</td>\n",
       "      <td>White</td>\n",
       "      <td>...</td>\n",
       "      <td>0</td>\n",
       "      <td>0</td>\n",
       "      <td>0</td>\n",
       "      <td>0</td>\n",
       "      <td>0</td>\n",
       "      <td>8</td>\n",
       "      <td>31</td>\n",
       "      <td>Nf3</td>\n",
       "      <td>-19</td>\n",
       "      <td>0:05:00</td>\n",
       "    </tr>\n",
       "    <tr>\n",
       "      <th>10032</th>\n",
       "      <td>c17b10c9-84c5-4c85-8c3b-b7866d0e25de</td>\n",
       "      <td>2</td>\n",
       "      <td>1</td>\n",
       "      <td>amir188</td>\n",
       "      <td>Nc6</td>\n",
       "      <td>b8c6</td>\n",
       "      <td>b8</td>\n",
       "      <td>c6</td>\n",
       "      <td>N</td>\n",
       "      <td>Black</td>\n",
       "      <td>...</td>\n",
       "      <td>0</td>\n",
       "      <td>0</td>\n",
       "      <td>0</td>\n",
       "      <td>0</td>\n",
       "      <td>3</td>\n",
       "      <td>8</td>\n",
       "      <td>28</td>\n",
       "      <td>Nf3|Nc6</td>\n",
       "      <td>42</td>\n",
       "      <td>0:05:00</td>\n",
       "    </tr>\n",
       "    <tr>\n",
       "      <th>10033</th>\n",
       "      <td>c17b10c9-84c5-4c85-8c3b-b7866d0e25de</td>\n",
       "      <td>3</td>\n",
       "      <td>2</td>\n",
       "      <td>TheYams</td>\n",
       "      <td>c4</td>\n",
       "      <td>c2c4</td>\n",
       "      <td>c2</td>\n",
       "      <td>c4</td>\n",
       "      <td>P</td>\n",
       "      <td>White</td>\n",
       "      <td>...</td>\n",
       "      <td>0</td>\n",
       "      <td>0</td>\n",
       "      <td>0</td>\n",
       "      <td>0</td>\n",
       "      <td>3</td>\n",
       "      <td>8</td>\n",
       "      <td>28</td>\n",
       "      <td>Nf3|Nc6|c4</td>\n",
       "      <td>-2</td>\n",
       "      <td>0:05:07</td>\n",
       "    </tr>\n",
       "    <tr>\n",
       "      <th>10034</th>\n",
       "      <td>c17b10c9-84c5-4c85-8c3b-b7866d0e25de</td>\n",
       "      <td>4</td>\n",
       "      <td>2</td>\n",
       "      <td>amir188</td>\n",
       "      <td>e5</td>\n",
       "      <td>e7e5</td>\n",
       "      <td>e7</td>\n",
       "      <td>e5</td>\n",
       "      <td>P</td>\n",
       "      <td>Black</td>\n",
       "      <td>...</td>\n",
       "      <td>0</td>\n",
       "      <td>0</td>\n",
       "      <td>0</td>\n",
       "      <td>1</td>\n",
       "      <td>3</td>\n",
       "      <td>7</td>\n",
       "      <td>28</td>\n",
       "      <td>Nf3|Nc6|c4|e5</td>\n",
       "      <td>10</td>\n",
       "      <td>0:04:55</td>\n",
       "    </tr>\n",
       "    <tr>\n",
       "      <th>10035</th>\n",
       "      <td>c17b10c9-84c5-4c85-8c3b-b7866d0e25de</td>\n",
       "      <td>5</td>\n",
       "      <td>3</td>\n",
       "      <td>TheYams</td>\n",
       "      <td>e3</td>\n",
       "      <td>e2e3</td>\n",
       "      <td>e2</td>\n",
       "      <td>e3</td>\n",
       "      <td>P</td>\n",
       "      <td>White</td>\n",
       "      <td>...</td>\n",
       "      <td>0</td>\n",
       "      <td>0</td>\n",
       "      <td>0</td>\n",
       "      <td>1</td>\n",
       "      <td>3</td>\n",
       "      <td>7</td>\n",
       "      <td>28</td>\n",
       "      <td>Nf3|Nc6|c4|e5|e3</td>\n",
       "      <td>4</td>\n",
       "      <td>0:05:06</td>\n",
       "    </tr>\n",
       "  </tbody>\n",
       "</table>\n",
       "<p>5 rows × 66 columns</p>\n",
       "</div>"
      ],
      "text/plain": [
       "                                    game_id  move_no  move_no_pair   player  \\\n",
       "10031  c17b10c9-84c5-4c85-8c3b-b7866d0e25de        1             1  TheYams   \n",
       "10032  c17b10c9-84c5-4c85-8c3b-b7866d0e25de        2             1  amir188   \n",
       "10033  c17b10c9-84c5-4c85-8c3b-b7866d0e25de        3             2  TheYams   \n",
       "10034  c17b10c9-84c5-4c85-8c3b-b7866d0e25de        4             2  amir188   \n",
       "10035  c17b10c9-84c5-4c85-8c3b-b7866d0e25de        5             3  TheYams   \n",
       "\n",
       "      notation  move from_square to_square piece  color  ...  \\\n",
       "10031      Nf3  g1f3          g1        f3     N  White  ...   \n",
       "10032      Nc6  b8c6          b8        c6     N  Black  ...   \n",
       "10033       c4  c2c4          c2        c4     P  White  ...   \n",
       "10034       e5  e7e5          e7        e5     P  Black  ...   \n",
       "10035       e3  e2e3          e2        e3     P  White  ...   \n",
       "\n",
       "      fen_row2_black_value  fen_row3_black_value  fen_row4_black_value  \\\n",
       "10031                    0                     0                     0   \n",
       "10032                    0                     0                     0   \n",
       "10033                    0                     0                     0   \n",
       "10034                    0                     0                     0   \n",
       "10035                    0                     0                     0   \n",
       "\n",
       "       fen_row5_black_value  fen_row6_black_value  fen_row7_black_value  \\\n",
       "10031                     0                     0                     8   \n",
       "10032                     0                     3                     8   \n",
       "10033                     0                     3                     8   \n",
       "10034                     1                     3                     7   \n",
       "10035                     1                     3                     7   \n",
       "\n",
       "       fen_row8_black_value     move_sequence  eval      clk  \n",
       "10031                    31               Nf3   -19  0:05:00  \n",
       "10032                    28           Nf3|Nc6    42  0:05:00  \n",
       "10033                    28        Nf3|Nc6|c4    -2  0:05:07  \n",
       "10034                    28     Nf3|Nc6|c4|e5    10  0:04:55  \n",
       "10035                    28  Nf3|Nc6|c4|e5|e3     4  0:05:06  \n",
       "\n",
       "[5 rows x 66 columns]"
      ]
     },
     "execution_count": 70,
     "metadata": {},
     "output_type": "execute_result"
    }
   ],
   "source": [
    "print(upd_peacock_moves.shape, upd_peacock_moves.columns)\n",
    "upd_peacock_moves.hefazanad()"
   ]
  },
  {
   "cell_type": "code",
   "execution_count": 71,
   "id": "2cb01677",
   "metadata": {},
   "outputs": [
    {
     "name": "stdout",
     "output_type": "stream",
     "text": [
      "5857\n",
      "5857\n"
     ]
    }
   ],
   "source": [
    "print(upd_peacock_info['game_id'].nunique())\n",
    "print(upd_peacock_moves['game_id'].nunique())"
   ]
  },
  {
   "cell_type": "markdown",
   "id": "5a019c45",
   "metadata": {},
   "source": [
    "**Теперь все готово для финальной загрузки данных в удобные небольшие .csv файлы:**"
   ]
  },
  {
   "cell_type": "code",
   "execution_count": 72,
   "id": "d94a1286",
   "metadata": {},
   "outputs": [],
   "source": [
    "#Запишем финальные датасеты в .csv файлы\n",
    "upd_peacock_moves.to_csv('peacock_moves_df.csv')\n",
    "upd_peacock_info.to_csv('peacock_info_df.csv')"
   ]
  },
  {
   "cell_type": "markdown",
   "id": "099b68a4",
   "metadata": {},
   "source": [
    "2. **Проделаем все те же действия с вторым датасетом (fazan)**"
   ]
  },
  {
   "cell_type": "code",
   "execution_count": 79,
   "id": "b3c317ed",
   "metadata": {},
   "outputs": [],
   "source": [
    "fazan_info = pd.read_csv(\"massive_fazan_game_info.csv\")\n",
    "fazan_moves = pd.read_csv(\"massive_fazan_moves.csv\")"
   ]
  },
  {
   "cell_type": "code",
   "execution_count": 80,
   "id": "96830c5d",
   "metadata": {},
   "outputs": [
    {
     "name": "stderr",
     "output_type": "stream",
     "text": [
      "C:\\Users\\79160\\anaconda3\\lib\\site-packages\\pandas\\core\\indexing.py:1884: SettingWithCopyWarning: \n",
      "A value is trying to be set on a copy of a slice from a DataFrame.\n",
      "Try using .loc[row_indexer,col_indexer] = value instead\n",
      "\n",
      "See the caveats in the documentation: https://pandas.pydata.org/pandas-docs/stable/user_guide/indexing.html#returning-a-view-versus-a-copy\n",
      "  self._setitem_single_column(loc, val, pi)\n"
     ]
    }
   ],
   "source": [
    "# Добавим в датасат с ходами полученные численные оценки\n",
    "fazan_moves['eval'] = cleval1['Eval']\n",
    "fazan_moves['clk'] = cleval1['Clock']\n",
    "# Оставим только те, для которых есть эти оценки\n",
    "upd_fazan_moves = fazan_moves[fazan_moves['eval'].notnull()]\n",
    "#Убедимся, что значения оценок, которые находились в формате PovScore превратятся в строки\n",
    "upd_fazan_moves.loc[:, ['eval']] = upd_fazan_moves.loc[:, ['eval']].astype(str) #Оценки имеют игровой формат PovScore"
   ]
  },
  {
   "cell_type": "code",
   "execution_count": 82,
   "id": "7b8a30d4",
   "metadata": {},
   "outputs": [
    {
     "name": "stderr",
     "output_type": "stream",
     "text": [
      "100%|██████████| 1107283/1107283 [00:02<00:00, 500496.32it/s]\n"
     ]
    },
    {
     "data": {
      "text/plain": [
       "(1107283, (1107283,))"
      ]
     },
     "execution_count": 82,
     "metadata": {},
     "output_type": "execute_result"
    }
   ],
   "source": [
    "# Получим список чисел,соответствующих оценку хода\n",
    "numbers1 = []\n",
    "strings = upd_fazan_moves['eval'].values\n",
    "for string in tqdm(strings):\n",
    "    matches = re.findall(r'-?\\d+', string)\n",
    "    for match in matches:\n",
    "        numbers1.append(int(match))\n",
    "len(numbers1), upd_fazan_moves['eval'].shape"
   ]
  },
  {
   "cell_type": "code",
   "execution_count": 83,
   "id": "02de7f7b",
   "metadata": {},
   "outputs": [
    {
     "name": "stderr",
     "output_type": "stream",
     "text": [
      "C:\\Users\\79160\\AppData\\Local\\Temp/ipykernel_11000/2908444629.py:2: SettingWithCopyWarning: \n",
      "A value is trying to be set on a copy of a slice from a DataFrame.\n",
      "Try using .loc[row_indexer,col_indexer] = value instead\n",
      "\n",
      "See the caveats in the documentation: https://pandas.pydata.org/pandas-docs/stable/user_guide/indexing.html#returning-a-view-versus-a-copy\n",
      "  upd_fazan_moves['eval'] = numbers1\n"
     ]
    }
   ],
   "source": [
    "# Обновим значение колонки\n",
    "upd_fazan_moves['eval'] = numbers1"
   ]
  },
  {
   "cell_type": "code",
   "execution_count": 84,
   "id": "e21380de",
   "metadata": {},
   "outputs": [],
   "source": [
    "#Дополнительно преобразуем колонку с типами игр\n",
    "x = fazan_info['event'].to_frame()\n",
    "x[['A', 'B']] = x['event'].str.split('https', 1, expand=True)\n",
    "fazan_info['event'] = x['A']"
   ]
  },
  {
   "cell_type": "code",
   "execution_count": 85,
   "id": "caad5c1a",
   "metadata": {},
   "outputs": [
    {
     "data": {
      "text/plain": [
       "Rated Blitz game                 76905\n",
       "Rated Classical game             43483\n",
       "Rated Bullet game                39025\n",
       "Rated Blitz tournament           16513\n",
       "Rated Bullet tournament          13882\n",
       "Rated Classical tournament        4952\n",
       "Rated UltraBullet tournament      3497\n",
       "Rated UltraBullet game            1028\n",
       "Rated Correspondence game          715\n",
       "Name: event, dtype: int64"
      ]
     },
     "execution_count": 85,
     "metadata": {},
     "output_type": "execute_result"
    }
   ],
   "source": [
    "fazan_info['event'].value_counts()"
   ]
  },
  {
   "cell_type": "code",
   "execution_count": 86,
   "id": "8c13bb57",
   "metadata": {},
   "outputs": [],
   "source": [
    "#Добавим дебюты\n",
    "fazan_info['op'] = op1\n",
    "#Оставим только  Classical\n",
    "fazan_info = fazan_info[fazan_info['event'] == 'Rated Classical game']"
   ]
  },
  {
   "cell_type": "code",
   "execution_count": 87,
   "id": "556cbc10",
   "metadata": {},
   "outputs": [],
   "source": [
    "# Оставшиеся игры\n",
    "games_left = upd_fazan_moves['game_id'].values\n",
    "upd_fazan_info = fazan_info[fazan_info['game_id'].isin(games_left)]"
   ]
  },
  {
   "cell_type": "code",
   "execution_count": 91,
   "id": "648b5bdc",
   "metadata": {},
   "outputs": [],
   "source": [
    "# Оставим только интерпретируемые и некопирующиеся элементы\n",
    "upd_fazan_info = upd_fazan_info[['game_id', 'event', 'white', 'black', 'result', 'white_elo',\n",
    "       'black_elo', 'winner_loser_elo_diff', 'eco', 'termination', 'time_control', 'op']]"
   ]
  },
  {
   "cell_type": "code",
   "execution_count": 93,
   "id": "581a6ac6",
   "metadata": {},
   "outputs": [
    {
     "name": "stdout",
     "output_type": "stream",
     "text": [
      "5574\n",
      "5574\n",
      "5574\n",
      "5574\n"
     ]
    }
   ],
   "source": [
    "print(upd_fazan_info['game_id'].nunique())\n",
    "print(upd_fazan_moves['game_id'].nunique())\n",
    "#Необходимо подкорректировать датасет с ходами, так как мы укоротили количество игр засчет фиксации одного режима\n",
    "upd_fazan_moves = upd_fazan_moves[upd_fazan_moves['game_id'].isin(upd_fazan_info['game_id'].values)]\n",
    "print(upd_fazan_info['game_id'].nunique())\n",
    "print(upd_fazan_moves['game_id'].nunique())"
   ]
  },
  {
   "cell_type": "code",
   "execution_count": 92,
   "id": "e73aa37b",
   "metadata": {},
   "outputs": [],
   "source": [
    "#Запишем финальные датасеты в .csv файлы\n",
    "upd_fazan_moves.to_csv('fazan_moves_df.csv')\n",
    "upd_fazan_info.to_csv('fazan_info_df.csv')"
   ]
  },
  {
   "cell_type": "markdown",
   "id": "17a6b27b",
   "metadata": {},
   "source": [
    "# 5) Объединение\n",
    "Перед данным этапом была очищена память от всех переменных для наиболее оптимальной работы без зависаний"
   ]
  },
  {
   "cell_type": "code",
   "execution_count": 4,
   "id": "6d080a6f",
   "metadata": {},
   "outputs": [],
   "source": [
    "p_inf = pd.read_csv(\"peacock_info_df.csv\")\n",
    "p_mov = pd.read_csv(\"peacock_moves_df.csv\")\n",
    "f_inf = pd.read_csv(\"fazan_info_df.csv\")\n",
    "f_mov = pd.read_csv(\"fazan_moves_df.csv\")"
   ]
  },
  {
   "cell_type": "code",
   "execution_count": 10,
   "id": "cb98d2a7",
   "metadata": {},
   "outputs": [],
   "source": [
    "all_info = pd.concat([p_inf, f_inf],ignore_index=False)\n",
    "all_moves = pd.concat([p_mov, f_mov],ignore_index=False)"
   ]
  },
  {
   "cell_type": "markdown",
   "id": "ebd97a2c",
   "metadata": {},
   "source": [
    "**Замечание:** Такое большое количество промежуточных файлов делается на крайний случай, если вылетит Jupiter, неправильно перезапишутся переменнные или просто на каком-то моменте случится ошибка в коде и придется стирать все сохраненные перемнные. "
   ]
  },
  {
   "cell_type": "code",
   "execution_count": 27,
   "id": "e219dd74",
   "metadata": {},
   "outputs": [],
   "source": [
    "all_info.to_csv('all_info.csv')\n",
    "all_moves.to_csv('all_moves.csv')"
   ]
  },
  {
   "cell_type": "markdown",
   "id": "c558d500",
   "metadata": {},
   "source": [
    "-----------"
   ]
  },
  {
   "cell_type": "markdown",
   "id": "f59f867f",
   "metadata": {},
   "source": [
    "**Из файла, который весит 24 Гб., мы получили два датафрейма которые в сумме по весу равны примерно 300 Мб. Иногда задаешься вопросом, а ради чего все это..?**\n",
    "\n",
    "Ответ на данный вопрос можно найти в следующем разделе проекта - \"Visualisation and hypotheis testing\""
   ]
  }
 ],
 "metadata": {
  "kernelspec": {
   "display_name": "Python 3 (ipykernel)",
   "language": "python",
   "name": "python3"
  },
  "language_info": {
   "codemirror_mode": {
    "name": "ipython",
    "version": 3
   },
   "file_extension": ".py",
   "mimetype": "text/x-python",
   "name": "python",
   "nbconvert_exporter": "python",
   "pygments_lexer": "ipython3",
   "version": "3.9.7"
  },
  "widgets": {
   "application/vnd.jupyter.widget-state+json": {
    "state": {},
    "version_major": 2,
    "version_minor": 0
   }
  }
 },
 "nbformat": 4,
 "nbformat_minor": 5
}
