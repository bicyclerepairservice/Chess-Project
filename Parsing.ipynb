{
 "cells": [
  {
   "cell_type": "code",
   "execution_count": 1,
   "id": "b24db576",
   "metadata": {},
   "outputs": [
    {
     "name": "stderr",
     "output_type": "stream",
     "text": [
      "INFO:numexpr.utils:NumExpr defaulting to 8 threads.\n",
      "C:\\Users\\79160\\anaconda3\\lib\\site-packages\\scipy\\__init__.py:146: UserWarning: A NumPy version >=1.16.5 and <1.23.0 is required for this version of SciPy (detected version 1.24.3\n",
      "  warnings.warn(f\"A NumPy version >={np_minversion} and <{np_maxversion}\"\n"
     ]
    }
   ],
   "source": [
    "#pip install chess\n",
    "#!pip install pgn2data\n",
    "from converter.pgn_data import PGNData\n",
    "import chess.pgn\n",
    "import pandas as pd\n",
    "import seaborn as sns\n",
    "import matplotlib.pyplot as plt\n",
    "from tqdm import tqdm\n",
    "import re\n",
    "import numpy as np"
   ]
  },
  {
   "cell_type": "markdown",
   "id": "3049ccc8",
   "metadata": {},
   "source": [
    "### Первичное преобразование файла"
   ]
  },
  {
   "cell_type": "code",
   "execution_count": null,
   "id": "bf23b297",
   "metadata": {},
   "outputs": [],
   "source": [
    "#Перевод файла формата .pgn в .csv датасет\n",
    "pgn_data = PGNData(\"lichess_db_standard_rated_2014-01.pgn\")\n",
    "result = pgn_data.export()\n",
    "#в результате данная библиотека выводит два файла:\n",
    "if result.is_complete:\n",
    "    #файл с основным описанием игры\n",
    "    games_df = result1.get_games_df()\n",
    "    print(games_df.head())\n",
    "    #файл с ходами, сделанными в каждой игре, и некоторыми дополнительными характеристиками\n",
    "    moves_df = result1.get_moves_df()\n",
    "    print(moves_df.head())"
   ]
  },
  {
   "cell_type": "markdown",
   "id": "4a27b3a9",
   "metadata": {},
   "source": [
    "На выходе получаем два .csv файла: **'lichess_db_standard_rated_2013-08_moves.csv'** - это moves_df, и **'lichess_db_standard_rated_2013-08_game_info.csv'** - это games_df"
   ]
  },
  {
   "cell_type": "markdown",
   "id": "5c283525",
   "metadata": {},
   "source": [
    "### Дополнительные характеристики"
   ]
  },
  {
   "cell_type": "markdown",
   "id": "3705440e",
   "metadata": {},
   "source": [
    "1. **Оценки ходов**"
   ]
  },
  {
   "cell_type": "code",
   "execution_count": null,
   "id": "495cfad2",
   "metadata": {},
   "outputs": [],
   "source": [
    "#создадим функцию для более удобного чтения исходных файлов игры\n",
    "def read_pgn_file(file_path):\n",
    "    with open(file_path) as f:\n",
    "        game = chess.pgn.read_game(f)\n",
    "        while game is not None:\n",
    "            yield game\n",
    "            game = chess.pgn.read_game(f)"
   ]
  },
  {
   "cell_type": "code",
   "execution_count": null,
   "id": "969f27cc",
   "metadata": {},
   "outputs": [],
   "source": [
    "#Выведем некоторые признаки:\n",
    "c1_list = [] #порядковый номер игры\n",
    "c2_list = [] #ход в игре\n",
    "c3_list = [] # оценка хода\n",
    "\n",
    "for i, game in tqdm(enumerate(read_pgn_file('lichess_db_standard_rated_2013-08.pgn'))):\n",
    "    numb = i + 1\n",
    "    node = game\n",
    "    while not node.is_end():\n",
    "        next_node = node.variation(0)\n",
    "        move = node.board().san(next_node.move)\n",
    "        evaluation = next_node.eval()\n",
    "        c1_list.append(numb)\n",
    "        c2_list.append(move)\n",
    "        c3_list.append(evaluation)\n",
    "        node = next_node"
   ]
  },
  {
   "cell_type": "code",
   "execution_count": null,
   "id": "d31d0f08",
   "metadata": {},
   "outputs": [],
   "source": [
    "# Далее преобразуем листы в np.array и создадим соответсвующий датафрейм\n",
    "c1 = np.array(c1_list)\n",
    "c2 = np.array(c2_list)\n",
    "c3 = np.array(c3_list)\n",
    "\n",
    "new_data = pd.DataFrame()\n",
    "new_data['Game'] = c1\n",
    "new_data['Move'] = c2\n",
    "new_data['Eval'] = c3\n",
    "\n",
    "# И запишем результат в отдельный файл\n",
    "new_data.to_csv('evals.csv')"
   ]
  },
  {
   "cell_type": "markdown",
   "id": "977a503b",
   "metadata": {},
   "source": [
    "1.1. Дополнительное преобразование оценок ходов"
   ]
  },
  {
   "cell_type": "code",
   "execution_count": null,
   "id": "d49004bc",
   "metadata": {},
   "outputs": [],
   "source": [
    "epic = new_data[new_data['Eval'].notnull()]\n",
    "epic.loc[:, ['Eval']] = epic.loc[:, ['Eval']].astype(str) #Оценки имеют игровой формат PovScore"
   ]
  },
  {
   "cell_type": "code",
   "execution_count": null,
   "id": "ee58108e",
   "metadata": {},
   "outputs": [],
   "source": [
    "# Получим список чисел,соответствующих оценку хода\n",
    "numbers = []\n",
    "strings = upd_moves_df['eval'].values\n",
    "for string in strings:\n",
    "    matches = re.findall(r'-?\\d+', string)\n",
    "    for match in matches:\n",
    "        numbers.append(int(match))\n",
    "len(numbers), upd_moves_df['eval'].shape"
   ]
  },
  {
   "cell_type": "markdown",
   "id": "3aeb874e",
   "metadata": {},
   "source": [
    "2. **Дебюты**"
   ]
  },
  {
   "cell_type": "code",
   "execution_count": null,
   "id": "9042f3fc",
   "metadata": {},
   "outputs": [],
   "source": [
    "# Извлечем из исходого датасета все дебюты, используя уже имеющуюся функцию чтения игр .pgn\n",
    "openings = []\n",
    "for i, game in tqdm(enumerate(read_pgn_file('lichess_db_standard_rated_2013-08.pgn'))):\n",
    "        headers = game.headers\n",
    "        for key, value in headers.items():\n",
    "            if key == 'Opening':\n",
    "                openings.append(value)"
   ]
  },
  {
   "cell_type": "code",
   "execution_count": null,
   "id": "3924518b",
   "metadata": {},
   "outputs": [],
   "source": [
    "op = np.array(openings)"
   ]
  },
  {
   "cell_type": "markdown",
   "id": "5a9fab29",
   "metadata": {},
   "source": [
    "### Формирование финальных датасетов"
   ]
  },
  {
   "cell_type": "markdown",
   "id": "1ca5fb2b",
   "metadata": {},
   "source": [
    "Так как основным призаком, используещимся в данном проекте является оценка ходов игроков, в соотвествии с наличием подобных данных необходимо сократить имеющееся количество игр в датасете."
   ]
  },
  {
   "cell_type": "code",
   "execution_count": 3,
   "id": "d3c42379",
   "metadata": {},
   "outputs": [],
   "source": [
    "# Добавим в датасат с ходами полученные численные оценки\n",
    "moves_df['eval'] = new_data['Eval']\n",
    "# Оставим только те, для которых есть эти оценки\n",
    "upd_moves_df = moves_df[moves_df['eval'].notnull()]\n",
    "#Убедимся, что значения оценок, которые находились в формате PovScore превратятся в строки\n",
    "upd_moves_df.loc[:, ['Eval']] = upd_moves_df.loc[:, ['Eval']].astype(str) #Оценки имеют игровой формат PovScore"
   ]
  },
  {
   "cell_type": "markdown",
   "id": "5f3a4a94",
   "metadata": {},
   "source": [
    "* Дополнительное преобразование оценок ходов"
   ]
  },
  {
   "cell_type": "code",
   "execution_count": null,
   "id": "bde46cde",
   "metadata": {},
   "outputs": [],
   "source": [
    "# Получим список чисел,соответствующих оценку хода\n",
    "numbers = []\n",
    "strings = upd_moves_df['eval'].values\n",
    "for string in strings:\n",
    "    matches = re.findall(r'-?\\d+', string)\n",
    "    for match in matches:\n",
    "        numbers.append(int(match))\n",
    "len(numbers), upd_moves_df['eval'].shape"
   ]
  },
  {
   "cell_type": "code",
   "execution_count": null,
   "id": "a3f0d3bd",
   "metadata": {},
   "outputs": [],
   "source": [
    "# Обновим значение колонки\n",
    "upd_moves_df['eval'] = numbers"
   ]
  },
  {
   "cell_type": "markdown",
   "id": "b1d2a1cb",
   "metadata": {},
   "source": [
    "### Теперь преобразуем датасет с общим описанием игр"
   ]
  },
  {
   "cell_type": "code",
   "execution_count": null,
   "id": "29894077",
   "metadata": {},
   "outputs": [],
   "source": [
    "#Добавим дебюты\n",
    "games_df['op'] = op\n",
    "# Оставшиеся игры\n",
    "games_left = upd_moves_df['game_id'].values\n",
    "upd_games_df = games_df[games_df['game_id'].isin(games_left)]"
   ]
  },
  {
   "cell_type": "code",
   "execution_count": null,
   "id": "bca62d0f",
   "metadata": {},
   "outputs": [],
   "source": [
    "# Оставим только интерпретируемые и некопирующиеся элементы\n",
    "upd_games_df = upd_games_df[['game_id', 'event', 'white', 'black', 'result', 'white_elo',\n",
    "       'black_elo', 'winner_loser_elo_diff', 'eco', 'termination', 'time_control', 'op']]"
   ]
  },
  {
   "cell_type": "code",
   "execution_count": null,
   "id": "d94a1286",
   "metadata": {},
   "outputs": [],
   "source": [
    "#Запишем финальные датасеты в .csv файлы\n",
    "upd_moves_df.to_csv('upd_moves_df.csv')\n",
    "upd_games_df.to_csv('upd_games_df.csv')"
   ]
  }
 ],
 "metadata": {
  "kernelspec": {
   "display_name": "Python 3 (ipykernel)",
   "language": "python",
   "name": "python3"
  },
  "language_info": {
   "codemirror_mode": {
    "name": "ipython",
    "version": 3
   },
   "file_extension": ".py",
   "mimetype": "text/x-python",
   "name": "python",
   "nbconvert_exporter": "python",
   "pygments_lexer": "ipython3",
   "version": "3.9.7"
  }
 },
 "nbformat": 4,
 "nbformat_minor": 5
}
