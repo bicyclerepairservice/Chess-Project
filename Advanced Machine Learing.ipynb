{
 "cells": [
  {
   "cell_type": "code",
   "execution_count": 53,
   "id": "c72062e0",
   "metadata": {},
   "outputs": [],
   "source": [
    "#Загружаем библиотеки\n",
    "import csv\n",
    "import pandas as pd\n",
    "import numpy as np\n",
    "from sklearn.model_selection import train_test_split\n",
    "from sklearn.metrics import confusion_matrix\n",
    "from sklearn import metrics\n",
    "from sklearn.metrics import accuracy_score, precision_score, recall_score, f1_score\n",
    "import matplotlib.pyplot as plt\n",
    "from sklearn.metrics import precision_recall_curve\n",
    "import seaborn as sns\n",
    "from sklearn.metrics import roc_auc_score\n",
    "from sklearn.metrics import roc_curve\n",
    "from sklearn.metrics import plot_confusion_matrix\n",
    "from numpy import sqrt\n",
    "from sklearn.preprocessing import StandardScaler\n",
    "from sklearn import preprocessing\n",
    "from sklearn.model_selection import GridSearchCV\n",
    "from sklearn.pipeline import Pipeline\n",
    "from sklearn.metrics import fbeta_score\n",
    "\n",
    "from sklearn.svm import SVC\n",
    "from sklearn.tree import DecisionTreeClassifier\n",
    "from sklearn.linear_model import LogisticRegression\n",
    "from sklearn.model_selection import GridSearchCV\n",
    "from sklearn.ensemble import RandomForestClassifier\n",
    "from sklearn.model_selection import RandomizedSearchCV\n",
    "from sklearn.linear_model import SGDClassifier\n",
    "from sklearn.ensemble import VotingClassifier\n",
    "from sklearn.naive_bayes import GaussianNB\n",
    "\n",
    "from sklearn.experimental import enable_halving_search_cv \n",
    "from sklearn.model_selection import HalvingGridSearchCV\n",
    "\n",
    "from sklearn.metrics import roc_curve, auc\n",
    "from sklearn.preprocessing import label_binarize\n",
    "from sklearn.multiclass import OneVsRestClassifier\n",
    "from sklearn.datasets import make_classification\n",
    "\n",
    "# Отключение некоторых лишних предупр"
   ]
  },
  {
   "cell_type": "code",
   "execution_count": 74,
   "id": "9b4bf461",
   "metadata": {},
   "outputs": [
    {
     "data": {
      "text/html": [
       "<div>\n",
       "<style scoped>\n",
       "    .dataframe tbody tr th:only-of-type {\n",
       "        vertical-align: middle;\n",
       "    }\n",
       "\n",
       "    .dataframe tbody tr th {\n",
       "        vertical-align: top;\n",
       "    }\n",
       "\n",
       "    .dataframe thead th {\n",
       "        text-align: right;\n",
       "    }\n",
       "</style>\n",
       "<table border=\"1\" class=\"dataframe\">\n",
       "  <thead>\n",
       "    <tr style=\"text-align: right;\">\n",
       "      <th></th>\n",
       "      <th>game_id</th>\n",
       "      <th>termination</th>\n",
       "      <th>result_coded</th>\n",
       "      <th>skill_cat</th>\n",
       "      <th>seconds</th>\n",
       "      <th>eco_cat</th>\n",
       "      <th>0</th>\n",
       "      <th>eval_std1</th>\n",
       "      <th>eval_std2</th>\n",
       "      <th>eval_std3</th>\n",
       "      <th>loss1</th>\n",
       "      <th>loss2</th>\n",
       "      <th>loss3</th>\n",
       "      <th>mean_eval</th>\n",
       "      <th>vremya1</th>\n",
       "      <th>vremya2</th>\n",
       "      <th>vremya3</th>\n",
       "    </tr>\n",
       "  </thead>\n",
       "  <tbody>\n",
       "    <tr>\n",
       "      <th>0</th>\n",
       "      <td>c17b10c9-84c5-4c85-8c3b-b7866d0e25de</td>\n",
       "      <td>Time forfeit</td>\n",
       "      <td>w</td>\n",
       "      <td>2</td>\n",
       "      <td>300</td>\n",
       "      <td>A</td>\n",
       "      <td>13</td>\n",
       "      <td>22.360680</td>\n",
       "      <td>34.355980</td>\n",
       "      <td>43.091956</td>\n",
       "      <td>0.000000</td>\n",
       "      <td>0.000000</td>\n",
       "      <td>0.750000</td>\n",
       "      <td>15.538462</td>\n",
       "      <td>4.929503</td>\n",
       "      <td>6.849574</td>\n",
       "      <td>16.580611</td>\n",
       "    </tr>\n",
       "    <tr>\n",
       "      <th>1</th>\n",
       "      <td>63fbeb77-cbcf-4e0a-ba24-a9fcce5c5c4f</td>\n",
       "      <td>Time forfeit</td>\n",
       "      <td>w</td>\n",
       "      <td>3</td>\n",
       "      <td>600</td>\n",
       "      <td>C</td>\n",
       "      <td>67</td>\n",
       "      <td>207.761854</td>\n",
       "      <td>468.703935</td>\n",
       "      <td>345.992368</td>\n",
       "      <td>1.043478</td>\n",
       "      <td>2.409091</td>\n",
       "      <td>7.727273</td>\n",
       "      <td>73.910448</td>\n",
       "      <td>42.935285</td>\n",
       "      <td>67.584499</td>\n",
       "      <td>101.161790</td>\n",
       "    </tr>\n",
       "    <tr>\n",
       "      <th>2</th>\n",
       "      <td>6c678d21-9c2c-47cc-acc8-e4d4be1aeb51</td>\n",
       "      <td>Normal</td>\n",
       "      <td>b</td>\n",
       "      <td>4</td>\n",
       "      <td>600</td>\n",
       "      <td>B</td>\n",
       "      <td>34</td>\n",
       "      <td>20.529912</td>\n",
       "      <td>391.709911</td>\n",
       "      <td>807.592348</td>\n",
       "      <td>0.500000</td>\n",
       "      <td>3.272727</td>\n",
       "      <td>12.181818</td>\n",
       "      <td>27.735294</td>\n",
       "      <td>12.007573</td>\n",
       "      <td>30.279606</td>\n",
       "      <td>29.550881</td>\n",
       "    </tr>\n",
       "    <tr>\n",
       "      <th>3</th>\n",
       "      <td>77346e14-a662-424c-94f0-37330765c1d0</td>\n",
       "      <td>Normal</td>\n",
       "      <td>w</td>\n",
       "      <td>2</td>\n",
       "      <td>600</td>\n",
       "      <td>C</td>\n",
       "      <td>37</td>\n",
       "      <td>45.041434</td>\n",
       "      <td>24.756389</td>\n",
       "      <td>765.173356</td>\n",
       "      <td>1.153846</td>\n",
       "      <td>3.750000</td>\n",
       "      <td>8.416667</td>\n",
       "      <td>21.702703</td>\n",
       "      <td>12.552454</td>\n",
       "      <td>17.417120</td>\n",
       "      <td>24.892953</td>\n",
       "    </tr>\n",
       "    <tr>\n",
       "      <th>4</th>\n",
       "      <td>ad728a3a-85df-4727-a596-e0c5e56b5f8e</td>\n",
       "      <td>Normal</td>\n",
       "      <td>b</td>\n",
       "      <td>1</td>\n",
       "      <td>480</td>\n",
       "      <td>C</td>\n",
       "      <td>30</td>\n",
       "      <td>222.130717</td>\n",
       "      <td>276.295816</td>\n",
       "      <td>1057.605030</td>\n",
       "      <td>0.200000</td>\n",
       "      <td>3.000000</td>\n",
       "      <td>6.000000</td>\n",
       "      <td>39.233333</td>\n",
       "      <td>8.030497</td>\n",
       "      <td>16.321765</td>\n",
       "      <td>59.676908</td>\n",
       "    </tr>\n",
       "  </tbody>\n",
       "</table>\n",
       "</div>"
      ],
      "text/plain": [
       "                                game_id   termination result_coded  skill_cat  \\\n",
       "0  c17b10c9-84c5-4c85-8c3b-b7866d0e25de  Time forfeit            w          2   \n",
       "1  63fbeb77-cbcf-4e0a-ba24-a9fcce5c5c4f  Time forfeit            w          3   \n",
       "2  6c678d21-9c2c-47cc-acc8-e4d4be1aeb51        Normal            b          4   \n",
       "3  77346e14-a662-424c-94f0-37330765c1d0        Normal            w          2   \n",
       "4  ad728a3a-85df-4727-a596-e0c5e56b5f8e        Normal            b          1   \n",
       "\n",
       "   seconds eco_cat   0   eval_std1   eval_std2    eval_std3     loss1  \\\n",
       "0      300       A  13   22.360680   34.355980    43.091956  0.000000   \n",
       "1      600       C  67  207.761854  468.703935   345.992368  1.043478   \n",
       "2      600       B  34   20.529912  391.709911   807.592348  0.500000   \n",
       "3      600       C  37   45.041434   24.756389   765.173356  1.153846   \n",
       "4      480       C  30  222.130717  276.295816  1057.605030  0.200000   \n",
       "\n",
       "      loss2      loss3  mean_eval    vremya1    vremya2     vremya3  \n",
       "0  0.000000   0.750000  15.538462   4.929503   6.849574   16.580611  \n",
       "1  2.409091   7.727273  73.910448  42.935285  67.584499  101.161790  \n",
       "2  3.272727  12.181818  27.735294  12.007573  30.279606   29.550881  \n",
       "3  3.750000   8.416667  21.702703  12.552454  17.417120   24.892953  \n",
       "4  3.000000   6.000000  39.233333   8.030497  16.321765   59.676908  "
      ]
     },
     "execution_count": 74,
     "metadata": {},
     "output_type": "execute_result"
    }
   ],
   "source": [
    "#Загружаем файл с признаками\n",
    "df = pd.read_csv('machine_part.csv', )\n",
    "df = df.drop(columns = ['Unnamed: 0'])\n",
    "df.head()"
   ]
  },
  {
   "cell_type": "code",
   "execution_count": 75,
   "id": "c9064057",
   "metadata": {},
   "outputs": [
    {
     "data": {
      "text/plain": [
       "game_id          object\n",
       "termination      object\n",
       "result_coded     object\n",
       "skill_cat         int64\n",
       "seconds           int64\n",
       "eco_cat          object\n",
       "0                 int64\n",
       "eval_std1       float64\n",
       "eval_std2       float64\n",
       "eval_std3       float64\n",
       "loss1           float64\n",
       "loss2           float64\n",
       "loss3           float64\n",
       "mean_eval       float64\n",
       "vremya1         float64\n",
       "vremya2         float64\n",
       "vremya3         float64\n",
       "dtype: object"
      ]
     },
     "execution_count": 75,
     "metadata": {},
     "output_type": "execute_result"
    }
   ],
   "source": [
    "df.dtypes"
   ]
  },
  {
   "cell_type": "code",
   "execution_count": 76,
   "id": "0400a9a4",
   "metadata": {},
   "outputs": [],
   "source": [
    "#Переведем termination в бинарную переменную\n",
    "df['termination'] = pd.Categorical(df['termination'])\n",
    "df['termination'] = df['termination'].cat.codes\n",
    "#Переведем result_coded в бинарную перемнную\n",
    "df['result_coded'] = pd.Categorical(df['result_coded'])\n",
    "df['result_coded'] = df['result_coded'].cat.codes\n",
    "#Переведем eco_cat в категориальную переменную\n",
    "df['eco_cat'] = pd.Categorical(df['eco_cat'])\n",
    "df['eco_cat'] = df['eco_cat'].cat.codes\n",
    "#Заполним возможные пропуски нулями\n",
    "df = df.fillna(0)"
   ]
  },
  {
   "cell_type": "code",
   "execution_count": 77,
   "id": "af529f44",
   "metadata": {},
   "outputs": [
    {
     "data": {
      "text/plain": [
       "(game_id          object\n",
       " termination        int8\n",
       " result_coded       int8\n",
       " skill_cat         int64\n",
       " seconds           int64\n",
       " eco_cat            int8\n",
       " 0                 int64\n",
       " eval_std1       float64\n",
       " eval_std2       float64\n",
       " eval_std3       float64\n",
       " loss1           float64\n",
       " loss2           float64\n",
       " loss3           float64\n",
       " mean_eval       float64\n",
       " vremya1         float64\n",
       " vremya2         float64\n",
       " vremya3         float64\n",
       " dtype: object,\n",
       " game_id         0\n",
       " termination     0\n",
       " result_coded    0\n",
       " skill_cat       0\n",
       " seconds         0\n",
       " eco_cat         0\n",
       " 0               0\n",
       " eval_std1       0\n",
       " eval_std2       0\n",
       " eval_std3       0\n",
       " loss1           0\n",
       " loss2           0\n",
       " loss3           0\n",
       " mean_eval       0\n",
       " vremya1         0\n",
       " vremya2         0\n",
       " vremya3         0\n",
       " dtype: int64)"
      ]
     },
     "execution_count": 77,
     "metadata": {},
     "output_type": "execute_result"
    }
   ],
   "source": [
    "df.dtypes, df.isnull().sum()"
   ]
  },
  {
   "cell_type": "code",
   "execution_count": 78,
   "id": "b0ab57d5",
   "metadata": {},
   "outputs": [
    {
     "data": {
      "text/plain": [
       "2    5235\n",
       "3    2597\n",
       "1    1708\n",
       "4    1626\n",
       "5       1\n",
       "Name: skill_cat, dtype: int64"
      ]
     },
     "execution_count": 78,
     "metadata": {},
     "output_type": "execute_result"
    }
   ],
   "source": [
    "#Проверим банас классов:\n",
    "df['skill_cat'].value_counts()\n",
    "#Оказалось(я посмотрел в предыдущий файл), что игроки с классом 5 имеют запредельный рейтинг: 2500 и 2428. В целом их не стоит\n",
    "#Убирать из датафрейма (я не знаю, как они сюда попали, т.к. классифицировал на 4 группы всего). Заменим этот класс на 4"
   ]
  },
  {
   "cell_type": "code",
   "execution_count": 80,
   "id": "470d14f5",
   "metadata": {},
   "outputs": [],
   "source": [
    "df['skill_cat'] = df['skill_cat'].replace({5: 4})"
   ]
  },
  {
   "cell_type": "code",
   "execution_count": 81,
   "id": "4c5690b1",
   "metadata": {},
   "outputs": [
    {
     "data": {
      "text/plain": [
       "2    5235\n",
       "3    2597\n",
       "1    1708\n",
       "4    1627\n",
       "Name: skill_cat, dtype: int64"
      ]
     },
     "execution_count": 81,
     "metadata": {},
     "output_type": "execute_result"
    }
   ],
   "source": [
    "df['skill_cat'].value_counts()"
   ]
  },
  {
   "cell_type": "code",
   "execution_count": 82,
   "id": "98685c0a",
   "metadata": {},
   "outputs": [],
   "source": [
    "#Разделяем на x(признаки) и y(предсказываемые величины)\n",
    "df_new = df.set_index('game_id')\n",
    "df_y = df_new['skill_cat']\n",
    "df_x = df_new.drop(columns = ['skill_cat'])\n",
    "feature_names = df_x.columns.values"
   ]
  },
  {
   "cell_type": "code",
   "execution_count": 83,
   "id": "c4732f2c",
   "metadata": {},
   "outputs": [],
   "source": [
    "X_train, X_test, y_train, y_test = train_test_split(df_x, df_y, test_size=0.2, random_state=1337)"
   ]
  },
  {
   "cell_type": "markdown",
   "id": "a6a664b4",
   "metadata": {},
   "source": [
    "1. **Алгоритм Случайного Леса** (Random Forest Classifier)"
   ]
  },
  {
   "cell_type": "code",
   "execution_count": 84,
   "id": "272e3900",
   "metadata": {},
   "outputs": [
    {
     "name": "stdout",
     "output_type": "stream",
     "text": [
      "Fitting 4 folds for each of 100 candidates, totalling 400 fits\n"
     ]
    },
    {
     "name": "stderr",
     "output_type": "stream",
     "text": [
      "C:\\Users\\79160\\anaconda3\\lib\\site-packages\\sklearn\\model_selection\\_search.py:922: UserWarning: One or more of the test scores are non-finite: [nan nan nan nan nan nan nan nan nan nan nan nan nan nan nan nan nan nan\n",
      " nan nan nan nan nan nan nan nan nan nan nan nan nan nan nan nan nan nan\n",
      " nan nan nan nan nan nan nan nan nan nan nan nan nan nan nan nan nan nan\n",
      " nan nan nan nan nan nan nan nan nan nan nan nan nan nan nan nan nan nan\n",
      " nan nan nan nan nan nan nan nan nan nan nan nan nan nan nan nan nan nan\n",
      " nan nan nan nan nan nan nan nan nan nan]\n",
      "  warnings.warn(\n"
     ]
    },
    {
     "data": {
      "text/plain": [
       "RandomizedSearchCV(cv=4, estimator=RandomForestClassifier(), n_iter=100,\n",
       "                   n_jobs=-1,\n",
       "                   param_distributions={'bootstrap': [True, False],\n",
       "                                        'criterion': ['gini', 'entropy',\n",
       "                                                      'log_loss'],\n",
       "                                        'max_depth': [10, 20, 30, 40, 50, 60,\n",
       "                                                      70, 80, 90, 100, 110,\n",
       "                                                      None],\n",
       "                                        'max_features': ['sqrt', 'log2'],\n",
       "                                        'min_samples_leaf': [1, 2, 4],\n",
       "                                        'min_samples_split': [2, 5, 10],\n",
       "                                        'n_estimators': [200, 400, 600, 800,\n",
       "                                                         1000, 1200, 1400, 1600,\n",
       "                                                         1800, 2000]},\n",
       "                   random_state=1337, scoring='roc_auc', verbose=5)"
      ]
     },
     "execution_count": 84,
     "metadata": {},
     "output_type": "execute_result"
    }
   ],
   "source": [
    "# https://towardsdatascience.com/hyperparameter-tuning-the-random-forest-in-python-using-scikit-learn-28d2aa77dd74\n",
    "# https://scikit-learn.org/stable/modules/generated/sklearn.ensemble.RandomForestClassifier.html\n",
    "# https://scikit-learn.org/stable/modules/generated/sklearn.model_selection.RandomizedSearchCV.html\n",
    "\n",
    "#1)Первый параметр леса - количество деревьев \n",
    "n_estimators = [int(x) for x in np.linspace(start = 200, stop = 2000, num = 10)]\n",
    "\n",
    "#2)Второй параметр - критерий, по которому считается качество разделения\n",
    "criterion = ['gini', 'entropy', 'log_loss']\n",
    "\n",
    "#3)Максимальная глубина дерева\n",
    "max_depth = [int(x) for x in np.linspace(10, 110, num = 11)]\n",
    "max_depth.append(None)\n",
    "\n",
    "#4)Минимальное количество выборок, необходимое для разделения внутреннего узла:\n",
    "min_samples_split = [2, 5, 10]\n",
    "\n",
    "#5)Минимальное количество выборок, необходимое для размещения в конечном узле. \n",
    "#Точка разделения на любой глубине будет учитываться только в том случае, \n",
    "#если она оставляет по крайней мере обучающие выборки min_samples_leaf в каждой из левой и правой ветвей\n",
    "min_samples_leaf = [1, 2, 4]\n",
    "\n",
    "#6)min_weight_fraction_leaf - не принципиально, можно оставить базовым нулем\n",
    "\n",
    "\n",
    "#7)Количество функций, которые следует учитывать при поиске наилучшего разделения:\n",
    "max_features = ['sqrt', 'log2']\n",
    "\n",
    "\n",
    "# Method of selecting samples for training each tree\n",
    "bootstrap = [True, False]\n",
    "\n",
    "#Остальные параметря я не понял, что означают\n",
    "\n",
    "# Создадим словарь параметров\n",
    "params = {'n_estimators': n_estimators,\n",
    "            'criterion' : criterion,\n",
    "            'max_features': max_features,\n",
    "            'max_depth': max_depth,\n",
    "            'min_samples_split': min_samples_split,\n",
    "            'min_samples_leaf': min_samples_leaf,\n",
    "            'bootstrap': bootstrap}\n",
    "\n",
    "hailey_baldwin = RandomForestClassifier()\n",
    "# ДЛя надежности будем использовать 100 итераций, проверять на 4 фолдах\n",
    "hailey_baldwin_random = RandomizedSearchCV(estimator = hailey_baldwin, param_distributions = params, \n",
    "                                           n_iter = 100, scoring = 'roc_auc', cv = 4, verbose=5, random_state=1337, \n",
    "                                           n_jobs = -1)\n",
    "hailey_baldwin_random.fit(X_train, y_train)"
   ]
  },
  {
   "cell_type": "code",
   "execution_count": 85,
   "id": "2086eda5",
   "metadata": {},
   "outputs": [
    {
     "data": {
      "text/plain": [
       "{'n_estimators': 800,\n",
       " 'min_samples_split': 5,\n",
       " 'min_samples_leaf': 4,\n",
       " 'max_features': 'log2',\n",
       " 'max_depth': 60,\n",
       " 'criterion': 'entropy',\n",
       " 'bootstrap': True}"
      ]
     },
     "execution_count": 85,
     "metadata": {},
     "output_type": "execute_result"
    }
   ],
   "source": [
    "hailey_baldwin_random.best_params_"
   ]
  },
  {
   "cell_type": "code",
   "execution_count": 86,
   "id": "292b1ad3",
   "metadata": {},
   "outputs": [],
   "source": [
    "#Заносим сюда нужные параметры\n",
    "hailey_baldwin = RandomForestClassifier(n_estimators = 800, \n",
    "                                        min_samples_split = 5, \n",
    "                                        min_samples_leaf = 4, \n",
    "                                        max_features = 'log2',\n",
    "                                        max_depth = 60,\n",
    "                                        bootstrap = True,\n",
    "                                        criterion = 'entropy')\n",
    "hailey_baldwin.fit(X_train, y_train)\n",
    "y_pred = hailey_baldwin.predict_proba(X_test)"
   ]
  },
  {
   "cell_type": "code",
   "execution_count": 87,
   "id": "4beede4a",
   "metadata": {},
   "outputs": [
    {
     "data": {
      "text/plain": [
       "array([1, 2, 3, 4], dtype=int64)"
      ]
     },
     "execution_count": 87,
     "metadata": {},
     "output_type": "execute_result"
    }
   ],
   "source": [
    "# Столкнувшись с необходимостью оценки классификации >2 количеством классов, пришлось прибегать к помощи старого доборого ИИ\n",
    "hailey_baldwin.classes_"
   ]
  },
  {
   "cell_type": "code",
   "execution_count": 88,
   "id": "98abe6e4",
   "metadata": {},
   "outputs": [],
   "source": [
    "y_test_bin = label_binarize(y_test, classes=hailey_baldwin.classes_)"
   ]
  },
  {
   "cell_type": "code",
   "execution_count": 89,
   "id": "d9092e77",
   "metadata": {},
   "outputs": [],
   "source": [
    "fpr = dict()\n",
    "tpr = dict()\n",
    "roc_auc = dict()\n",
    "\n",
    "for i in range(len(hailey_baldwin.classes_)):\n",
    "    fpr[i], tpr[i], _ = roc_curve(y_test_bin[:, i], y_pred[:, i])\n",
    "    roc_auc[i] = auc(fpr[i], tpr[i])"
   ]
  },
  {
   "cell_type": "code",
   "execution_count": 92,
   "id": "db970040",
   "metadata": {},
   "outputs": [
    {
     "data": {
      "image/png": "[encoded data removed]",
      "text/plain": [
       "<Figure size 720x576 with 1 Axes>"
      ]
     },
     "metadata": {
      "needs_background": "light"
     },
     "output_type": "display_data"
    }
   ],
   "source": [
    "plt.figure(figsize=(10, 8))\n",
    "\n",
    "for i in range(len(hailey_baldwin.classes_)):\n",
    "    plt.plot(fpr[i], tpr[i], label=f'Class {i} (AUC = {roc_auc[i]:.2f})')\n",
    "\n",
    "plt.plot([0, 1], [0, 1], 'k--')  # Plot the random classifier curve\n",
    "plt.xlabel('False Positive Rate')\n",
    "plt.ylabel('True Positive Rate')\n",
    "plt.title('OvR ROC Curve for Random Forest Classifier')\n",
    "plt.legend(loc='lower right')\n",
    "plt.show()"
   ]
  },
  {
   "cell_type": "markdown",
   "id": "6602ff15",
   "metadata": {},
   "source": [
    "https://towardsdatascience.com/multiclass-classification-evaluation-with-roc-curves-and-roc-auc-294fd4617e3a\n",
    "\n",
    "**Вывод:** В данном коде мы применили так называемый OVR метод \"Один против всех\". Это первый метод, который я нашел в интернете и суть его заключается в том, что каждый отдельный класс сравнивается со всеми остальными. В этом сценарии мы берем один класс и рассматриваем его как наш 1 класс, в то время как все остальные рассматриваются как 0 класс.\n",
    "\n",
    "Также оказалось, что последний класс, который олицетворяет наиболее профессиональных игроков (рейтинг >1900) оказался слишком малым и поэтому в одном из предыдущих чанков выдалась ошибка \"UndefinedMetricWarning: No positive samples in y_true, true positive value should be meaningless\""
   ]
  },
  {
   "cell_type": "markdown",
   "id": "62c9a97c",
   "metadata": {},
   "source": [
    "2. **Алгоритм Градиентного Бустинга** (Gradient Boosing Classifier)"
   ]
  },
  {
   "cell_type": "markdown",
   "id": "11fe4caf",
   "metadata": {},
   "source": [
    "......"
   ]
  }
 ],
 "metadata": {
  "kernelspec": {
   "display_name": "Python 3 (ipykernel)",
   "language": "python",
   "name": "python3"
  },
  "language_info": {
   "codemirror_mode": {
    "name": "ipython",
    "version": 3
   },
   "file_extension": ".py",
   "mimetype": "text/x-python",
   "name": "python",
   "nbconvert_exporter": "python",
   "pygments_lexer": "ipython3",
   "version": "3.9.7"
  }
 },
 "nbformat": 4,
 "nbformat_minor": 5
}
