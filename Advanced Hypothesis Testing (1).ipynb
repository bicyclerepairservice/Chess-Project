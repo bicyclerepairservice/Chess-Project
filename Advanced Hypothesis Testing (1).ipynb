{
 "cells": [
  {
   "cell_type": "code",
   "execution_count": 2,
   "id": "e29ba2ac",
   "metadata": {},
   "outputs": [],
   "source": [
    "import chess.pgn\n",
    "import pandas as pd\n",
    "import re\n",
    "import warnings\n",
    "warnings.filterwarnings(\"ignore\")"
   ]
  },
  {
   "cell_type": "code",
   "execution_count": 8,
   "id": "d290e477",
   "metadata": {},
   "outputs": [],
   "source": [
    "df = pd.read_csv(\"machine_part.csv\")"
   ]
  },
  {
   "cell_type": "markdown",
   "id": "99c7f653",
   "metadata": {},
   "source": [
    "## Гипотеза 2.\n",
    "\n",
    "Проверим гипотезу о том, что cреднестатистический игрок, имея больше времени, играет лучше, чем имея меньше времени. Запишем это формально:\n",
    "\n",
    "$$ H_0: \\mu_2 = \\mu_3 $$\n",
    "\n",
    "$$ H_1: \\mu_2 \\neq \\mu_3 $$, \n",
    "\n",
    "где $\\mu_2$ - математическое ожидание оценки хода в миттеншпиле (времени много), $\\mu_3$ - математическое ожидание оценки хода в \n",
    "ндшпиле (времени мало). **Для проверки гипотезы возьмем партию с относительно маленьким контролем времени - 5 минут (300 секунд)**\n",
    "\n",
    "**Также будем проверять гипотезу с уровнем доверия 0.99**"
   ]
  },
  {
   "cell_type": "code",
   "execution_count": 53,
   "id": "281cc524",
   "metadata": {},
   "outputs": [
    {
     "name": "stdout",
     "output_type": "stream",
     "text": [
      "Есть основания отвергать гипотезу H0\n",
      "p-значение: 3.670482286585841e-72\n"
     ]
    }
   ],
   "source": [
    "from scipy.stats import ttest_ind\n",
    "condition = df[\"seconds\"] == 300\n",
    "df_hyp = df[condition]\n",
    "## Используем t-test:\n",
    "t_statistic, p_value = ttest_ind(df_hyp['eval_std2'], df_hyp['eval_std3'], equal_var=False)\n",
    "if p_value <= 0.01:\n",
    "    print(\"Есть основания отвергать гипотезу H0\")\n",
    "    print(\"p-значение:\", p_value)\n",
    "else:\n",
    "    print(\"Нет оснований отвергать гипотезу H0\")\n",
    "    print(\"p-значение:\", p_value)"
   ]
  },
  {
   "cell_type": "markdown",
   "id": "73b46c77",
   "metadata": {},
   "source": [
    "**Вывод:** Как мы можем заметить, p-значение очень маленькое. Следовательно, можно уверенно утверждать, что имея больше времени, среднестатистический игрок играет лучше. "
   ]
  },
  {
   "cell_type": "markdown",
   "id": "e06805ed",
   "metadata": {},
   "source": [
    "## Гипотеза 3.\n",
    "\n",
    "Проверим гипотезу о том, что белые выигрывают с такой же частотой, что и чёрные. Запишем это формально: \n",
    "\n",
    "$$ H_0: \\mu_w = \\mu_b $$\n",
    "\n",
    "$$ H_1: \\mu_w \\neq \\mu_b $$, \n",
    "\n",
    "где $\\mu_w$ - математическое ожидание вероятности победы белых, $\\mu_b$ - чёрных."
   ]
  },
  {
   "cell_type": "code",
   "execution_count": 69,
   "id": "1c161c97",
   "metadata": {},
   "outputs": [
    {
     "name": "stdout",
     "output_type": "stream",
     "text": [
      "p-значение: 0.009797970077964336\n"
     ]
    }
   ],
   "source": [
    "from statsmodels.stats.proportion import proportions_ztest\n",
    "\n",
    "# Подсчитываем количество побед белых и черных\n",
    "white_wins = df[df['result_coded'] == 'w']['result_coded'].count()\n",
    "black_wins = df[df['result_coded'] == 'b']['result_coded'].count()\n",
    "\n",
    "total_games = df['result_coded'].count()\n",
    "\n",
    "count = np.array([white_wins, black_wins])\n",
    "nobs = np.array([total_games, total_games])\n",
    "stat, p_value = proportions_ztest(count, nobs)\n",
    "\n",
    "print('p-значение:', p_value)\n"
   ]
  },
  {
   "cell_type": "markdown",
   "id": "33effd40",
   "metadata": {},
   "source": [
    "**Вывод:** можно заметить, что на уровне значимости 0.1, 0.05 есть основания отвергнуть гипотезу H0. Однако, стоит заметить, что с уровнем значимости 0.01 необходимо быть аккуратным, так как p-value стремится к этому значению."
   ]
  },
  {
   "cell_type": "markdown",
   "id": "faefec52",
   "metadata": {},
   "source": [
    "Давайте реализуем этот же тест, но используя метод наивного бутстрапа."
   ]
  },
  {
   "cell_type": "code",
   "execution_count": 76,
   "id": "767c42f8",
   "metadata": {},
   "outputs": [],
   "source": [
    "df[\"result\"] = df[\"result_coded\"].apply(lambda x: 1 if x == \"w\" else 0)"
   ]
  },
  {
   "cell_type": "code",
   "execution_count": 112,
   "id": "593103ce",
   "metadata": {},
   "outputs": [
    {
     "name": "stdout",
     "output_type": "stream",
     "text": [
      "0.48222441121160564 0.5006716217426346\n"
     ]
    },
    {
     "data": {
      "image/png": "[encoded data removed]",
      "text/plain": [
       "<Figure size 432x288 with 1 Axes>"
      ]
     },
     "metadata": {
      "needs_background": "light"
     },
     "output_type": "display_data"
    }
   ],
   "source": [
    "import matplotlib.pyplot as plt\n",
    "np.random.seed(2004)\n",
    "\n",
    "n_iter = 10000\n",
    "confidence = 95\n",
    "ratios = 0\n",
    "obs = 0.5\n",
    "\n",
    "bootstraps = []\n",
    "for i in range(n_iter):\n",
    "    bootstrap = np.random.choice(df[\"result\"], size = len(df[\"result\"]))\n",
    "    bootstrap_mean = np.mean(bootstrap)\n",
    "    bootstraps.append(bootstrap_mean)\n",
    "\n",
    "b_left = np.percentile(bootstraps, (100 - confidence)/2)\n",
    "b_right = np.percentile(bootstraps, (100 + confidence)/2)\n",
    "print(b_left, b_right)\n",
    "plt.hist(bootstraps, bins = 50, color = \"seagreen\")\n",
    "plt.axvline(x = 0.5, color = \"blue\", linestyle = \":\")\n",
    "plt.axvline(x = b_left, color = \"red\", linestyle = \":\")\n",
    "plt.axvline(x = b_right, color = \"red\", linestyle = \":\")\n",
    "plt.title(\"Гистограмма отношения побед белых к общему количеству игр\")  \n",
    "plt.xlabel(\"Вероятность победы белых\")  \n",
    "plt.ylabel(\"density\")\n",
    "None"
   ]
  },
  {
   "cell_type": "markdown",
   "id": "aa14e461",
   "metadata": {},
   "source": [
    "Вывод: на уровне значимости 95% нет оснований отвергать гипотезу H0 о том, что белые выигрывают с такой же частотой, что и чёрные."
   ]
  }
 ],
 "metadata": {
  "kernelspec": {
   "display_name": "Python 3 (ipykernel)",
   "language": "python",
   "name": "python3"
  },
  "language_info": {
   "codemirror_mode": {
    "name": "ipython",
    "version": 3
   },
   "file_extension": ".py",
   "mimetype": "text/x-python",
   "name": "python",
   "nbconvert_exporter": "python",
   "pygments_lexer": "ipython3",
   "version": "3.9.7"
  }
 },
 "nbformat": 4,
 "nbformat_minor": 5
}
