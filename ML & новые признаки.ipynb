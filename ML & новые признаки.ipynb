{
 "cells": [
  {
   "cell_type": "code",
   "execution_count": 3,
   "id": "6573c2dc",
   "metadata": {},
   "outputs": [],
   "source": [
    "import chess.pgn\n",
    "import pandas as pd\n",
    "import re"
   ]
  },
  {
   "cell_type": "code",
   "execution_count": 22,
   "id": "f5073ce8",
   "metadata": {},
   "outputs": [],
   "source": [
    "import warnings\n",
    "warnings.filterwarnings(\"ignore\")"
   ]
  },
  {
   "cell_type": "code",
   "execution_count": 9,
   "id": "3949db98",
   "metadata": {},
   "outputs": [],
   "source": [
    "nrows_to_read = 20000000 ## кол-во строчек, которое мы хотим прочитать, так как файл весит 20 гигабайт\n",
    "reader = pd.read_csv(\"lichess_db_standard_rated_2017-04.pgn\",  delimiter=';', index_col=False, nrows = nrows_to_read)\n",
    "df = reader\n",
    "df.columns = [\"coma\"] ## столбец \"coma\" - все строки из датасета\n",
    "f_df = df[df[\"coma\"].str.contains('eval')] ## в датасете f_df хранятся только ходы партий\n",
    "df = f_df ## для дальнейшего удобства создадим копию"
   ]
  },
  {
   "cell_type": "code",
   "execution_count": 23,
   "id": "bf6f671e",
   "metadata": {},
   "outputs": [],
   "source": [
    "import statistics\n",
    "\n",
    "eval_regex = r'\\[%eval\\s+([\\d.-]+)\\]'\n",
    "\n",
    "def calculate_mean_eval(row): ## функция подсчёта среднего %eval\n",
    "    eval_matches = re.findall(eval_regex, row)\n",
    "    eval_values = [float(eval_match) for eval_match in eval_matches]\n",
    "    if len(eval_values) != 0:\n",
    "        return sum(eval_values) / len(eval_values)\n",
    "    else:\n",
    "        return 0\n",
    "\n",
    "\n",
    "df['mean_eval'] = df['coma'].apply(calculate_mean_eval)\n",
    "\n",
    "def calculate_std_eval(row): ## функция подсчёта стандартного отклонения %eval\n",
    "    eval_matches = re.findall(eval_regex, row)\n",
    "    eval_values = [float(eval_match) for eval_match in eval_matches]\n",
    "    if len(eval_values) != 0:\n",
    "        return statistics.stdev(eval_values)\n",
    "    else:\n",
    "        return 0\n",
    "\n",
    "df['std_eval'] = df['coma'].apply(calculate_std_eval)\n",
    "\n",
    "df['Move Count'] = df[\"coma\"].str.count(r'%eval') ## подсчёт количества ходов"
   ]
  },
  {
   "cell_type": "code",
   "execution_count": 24,
   "id": "ea727634",
   "metadata": {},
   "outputs": [],
   "source": [
    "## работа с %clk\n",
    "\n",
    "time_pattern = r'\\[%clk\\s(.*?)\\]'\n",
    "df['Time'] = df['coma'].apply(lambda x: re.findall(time_pattern, x))\n",
    "\n",
    "# Преобразование времени в числовой тип данных (в секундах)\n",
    "df['Time'] = df['Time'].apply(lambda x: [sum(int(t) * 60**i for i, t in enumerate(reversed(time.split(':')))) for time in x])\n",
    "\n",
    "# Вычисление среднего арифметического времени на ход\n",
    "df['Avg Time'] = df['Time'].apply(lambda x: sum(x) / len(x) if len(x) != 0 else 0)"
   ]
  },
  {
   "cell_type": "code",
   "execution_count": 26,
   "id": "abfbf83b",
   "metadata": {},
   "outputs": [],
   "source": [
    "for index in df.index:\n",
    "    rating_str = reader.loc[index-8][0]\n",
    "    rating_only_re = re.sub(r\"\\D\", \"\", rating_str)\n",
    "    if len(rating_only_re) != 0:\n",
    "        rating_int = int(rating_only_re)\n",
    "    else:\n",
    "        rating_int = None\n",
    "    df.at[index, \"Rating\"] = rating_int"
   ]
  },
  {
   "cell_type": "code",
   "execution_count": 31,
   "id": "cbec26a3",
   "metadata": {
    "scrolled": false
   },
   "outputs": [
    {
     "data": {
      "text/html": [
       "<div>\n",
       "<style scoped>\n",
       "    .dataframe tbody tr th:only-of-type {\n",
       "        vertical-align: middle;\n",
       "    }\n",
       "\n",
       "    .dataframe tbody tr th {\n",
       "        vertical-align: top;\n",
       "    }\n",
       "\n",
       "    .dataframe thead th {\n",
       "        text-align: right;\n",
       "    }\n",
       "</style>\n",
       "<table border=\"1\" class=\"dataframe\">\n",
       "  <thead>\n",
       "    <tr style=\"text-align: right;\">\n",
       "      <th></th>\n",
       "      <th>coma</th>\n",
       "      <th>mean_eval</th>\n",
       "      <th>std_eval</th>\n",
       "      <th>Move Count</th>\n",
       "      <th>Time</th>\n",
       "      <th>Avg Time</th>\n",
       "      <th>Rating</th>\n",
       "      <th>Time Control</th>\n",
       "      <th>Time Spent Avg</th>\n",
       "    </tr>\n",
       "  </thead>\n",
       "  <tbody>\n",
       "    <tr>\n",
       "      <th>846</th>\n",
       "      <td>1. d4 { [%eval 0.27] [%clk 0:05:00] } 1... Nf6...</td>\n",
       "      <td>0.703636</td>\n",
       "      <td>2.029550</td>\n",
       "      <td>55</td>\n",
       "      <td>[300, 300, 299, 299, 298, 299, 296, 299, 295, ...</td>\n",
       "      <td>250.800000</td>\n",
       "      <td>2207.0</td>\n",
       "      <td>300.0</td>\n",
       "      <td>0.836000</td>\n",
       "    </tr>\n",
       "    <tr>\n",
       "      <th>878</th>\n",
       "      <td>1. d4 { [%eval 0.12] [%clk 0:05:00] } 1... d5 ...</td>\n",
       "      <td>-4.186364</td>\n",
       "      <td>10.198569</td>\n",
       "      <td>67</td>\n",
       "      <td>[300, 300, 298, 298, 297, 296, 293, 294, 291, ...</td>\n",
       "      <td>142.132353</td>\n",
       "      <td>1520.0</td>\n",
       "      <td>300.0</td>\n",
       "      <td>0.473775</td>\n",
       "    </tr>\n",
       "    <tr>\n",
       "      <th>894</th>\n",
       "      <td>1. e4 { [%eval 0.29] [%clk 0:10:00] } 1... e5 ...</td>\n",
       "      <td>-8.261429</td>\n",
       "      <td>16.274437</td>\n",
       "      <td>86</td>\n",
       "      <td>[600, 600, 596, 599, 590, 566, 560, 556, 556, ...</td>\n",
       "      <td>373.581395</td>\n",
       "      <td>1403.0</td>\n",
       "      <td>600.0</td>\n",
       "      <td>0.622636</td>\n",
       "    </tr>\n",
       "    <tr>\n",
       "      <th>910</th>\n",
       "      <td>1. d4 { [%eval 0.22] [%clk 0:08:00] } 1... Nf6...</td>\n",
       "      <td>1.091224</td>\n",
       "      <td>1.605751</td>\n",
       "      <td>50</td>\n",
       "      <td>[480, 480, 478, 477, 476, 475, 476, 473, 476, ...</td>\n",
       "      <td>398.274510</td>\n",
       "      <td>2275.0</td>\n",
       "      <td>480.0</td>\n",
       "      <td>0.829739</td>\n",
       "    </tr>\n",
       "    <tr>\n",
       "      <th>942</th>\n",
       "      <td>1. d4 { [%eval 0.14] [%clk 0:10:00] } 1... d5 ...</td>\n",
       "      <td>-4.571818</td>\n",
       "      <td>14.741802</td>\n",
       "      <td>100</td>\n",
       "      <td>[600, 600, 598, 597, 596, 594, 593, 588, 590, ...</td>\n",
       "      <td>357.890000</td>\n",
       "      <td>1811.0</td>\n",
       "      <td>600.0</td>\n",
       "      <td>0.596483</td>\n",
       "    </tr>\n",
       "  </tbody>\n",
       "</table>\n",
       "</div>"
      ],
      "text/plain": [
       "                                                  coma  mean_eval   std_eval  \\\n",
       "846  1. d4 { [%eval 0.27] [%clk 0:05:00] } 1... Nf6...   0.703636   2.029550   \n",
       "878  1. d4 { [%eval 0.12] [%clk 0:05:00] } 1... d5 ...  -4.186364  10.198569   \n",
       "894  1. e4 { [%eval 0.29] [%clk 0:10:00] } 1... e5 ...  -8.261429  16.274437   \n",
       "910  1. d4 { [%eval 0.22] [%clk 0:08:00] } 1... Nf6...   1.091224   1.605751   \n",
       "942  1. d4 { [%eval 0.14] [%clk 0:10:00] } 1... d5 ...  -4.571818  14.741802   \n",
       "\n",
       "     Move Count                                               Time  \\\n",
       "846          55  [300, 300, 299, 299, 298, 299, 296, 299, 295, ...   \n",
       "878          67  [300, 300, 298, 298, 297, 296, 293, 294, 291, ...   \n",
       "894          86  [600, 600, 596, 599, 590, 566, 560, 556, 556, ...   \n",
       "910          50  [480, 480, 478, 477, 476, 475, 476, 473, 476, ...   \n",
       "942         100  [600, 600, 598, 597, 596, 594, 593, 588, 590, ...   \n",
       "\n",
       "       Avg Time  Rating  Time Control  Time Spent Avg  \n",
       "846  250.800000  2207.0         300.0        0.836000  \n",
       "878  142.132353  1520.0         300.0        0.473775  \n",
       "894  373.581395  1403.0         600.0        0.622636  \n",
       "910  398.274510  2275.0         480.0        0.829739  \n",
       "942  357.890000  1811.0         600.0        0.596483  "
      ]
     },
     "execution_count": 31,
     "metadata": {},
     "output_type": "execute_result"
    }
   ],
   "source": [
    "df[\"Time Control\"] = df[\"Time\"].str[0]\n",
    "df[\"Time Spent Avg\"] = df[\"Avg Time\"]/df[\"Time Control\"]\n",
    "df.head()"
   ]
  },
  {
   "cell_type": "code",
   "execution_count": 33,
   "id": "8ecae9de",
   "metadata": {},
   "outputs": [],
   "source": [
    "## Классифицируем рейтинги:\n",
    "\n",
    "def replace_numbers(value):\n",
    "    if value < 2000:\n",
    "        return 0\n",
    "    else:\n",
    "        return 1\n",
    "    \n",
    "df[\"classification\"] = df[\"Rating\"].apply(replace_numbers)"
   ]
  },
  {
   "cell_type": "code",
   "execution_count": 43,
   "id": "d477a653",
   "metadata": {},
   "outputs": [
    {
     "data": {
      "text/plain": [
       "coma              0\n",
       "mean_eval         0\n",
       "std_eval          0\n",
       "Move Count        0\n",
       "Time              0\n",
       "Avg Time          0\n",
       "Rating            0\n",
       "Time Control      0\n",
       "Time Spent Avg    0\n",
       "classification    0\n",
       "dtype: int64"
      ]
     },
     "execution_count": 43,
     "metadata": {},
     "output_type": "execute_result"
    }
   ],
   "source": [
    "df.dropna(inplace=True)\n",
    "df.isna().sum()"
   ]
  },
  {
   "cell_type": "code",
   "execution_count": 55,
   "id": "bccb9dba",
   "metadata": {},
   "outputs": [
    {
     "name": "stdout",
     "output_type": "stream",
     "text": [
      "ROC-AUC Score: 0.6329503725331015\n",
      "Accuracy: 0.9134664401019541\n"
     ]
    }
   ],
   "source": [
    "from sklearn.linear_model import LinearRegression\n",
    "from sklearn.linear_model import LogisticRegression\n",
    "from sklearn.model_selection import train_test_split\n",
    "from sklearn.metrics import mean_squared_error, r2_score\n",
    "from sklearn.metrics import accuracy_score\n",
    "from sklearn.metrics import roc_auc_score\n",
    "\n",
    "X = df[['mean_eval', \"std_eval\", \"Move Count\", \"Time Spent Avg\"]]\n",
    "y = df['classification']\n",
    "\n",
    "X_train, X_test, y_train, y_test = train_test_split(X, y, test_size=0.2, random_state = 35)\n",
    "\n",
    "model = LogisticRegression()\n",
    "model.fit(X_train, y_train)\n",
    "\n",
    "y_pred = model.predict(X_test)\n",
    "\n",
    "# Оценка качества модели\n",
    "accuracy = accuracy_score(y_test, y_pred)\n",
    "\n",
    "# Предсказанные вероятности принадлежности к положительному классу\n",
    "y_pred_probs = model.predict_proba(X_test)[:, 1]\n",
    "\n",
    "# Истинные метки классов\n",
    "y_true = y_test \n",
    "\n",
    "# Вычисление ROC-AUC\n",
    "roc_auc = roc_auc_score(y_true, y_pred_probs)\n",
    "\n",
    "print(\"ROC-AUC Score:\", roc_auc)\n",
    "\n",
    "print(\"Accuracy:\", accuracy)\n"
   ]
  }
 ],
 "metadata": {
  "kernelspec": {
   "display_name": "Python 3 (ipykernel)",
   "language": "python",
   "name": "python3"
  },
  "language_info": {
   "codemirror_mode": {
    "name": "ipython",
    "version": 3
   },
   "file_extension": ".py",
   "mimetype": "text/x-python",
   "name": "python",
   "nbconvert_exporter": "python",
   "pygments_lexer": "ipython3",
   "version": "3.9.7"
  }
 },
 "nbformat": 4,
 "nbformat_minor": 5
}
